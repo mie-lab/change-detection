{
 "cells": [
  {
   "cell_type": "code",
   "execution_count": 1,
   "metadata": {},
   "outputs": [],
   "source": [
    "import numpy as np\n",
    "import geopandas as gpd\n",
    "import pandas as pd\n",
    "from joblib import Parallel, delayed\n",
    "\n",
    "import glob, sys, os\n",
    "import datetime\n",
    "from scipy import stats\n",
    "import multiprocessing\n",
    "\n",
    "from config import config\n",
    "\n",
    "sys.path.append(os.path.join(os.getcwd(), \"trackintel\"))\n",
    "from trackintel.analysis.tracking_quality import temporal_tracking_quality\n",
    "\n",
    "\n",
    "import matplotlib.pyplot as plt\n",
    "import matplotlib\n",
    "\n",
    "matplotlib.rcParams['figure.dpi'] = 300\n",
    "%matplotlib inline\n",
    "matplotlib.rcParams['xtick.labelsize'] = 13\n",
    "matplotlib.rcParams['ytick.labelsize'] = 13\n",
    "\n",
    "np.set_printoptions(precision=4, suppress= True)\n",
    "colors = plt.rcParams['axes.prop_cycle'].by_key()['color']"
   ]
  },
  {
   "cell_type": "code",
   "execution_count": 2,
   "metadata": {},
   "outputs": [
    {
     "name": "stdout",
     "output_type": "stream",
     "text": [
      "User number: 139 139\n",
      "starting merge (259887, 12) (245689, 9)\n",
      "finished merge (505576, 17)\n",
      "**************************************************\n",
      "139 139 139\n"
     ]
    }
   ],
   "source": [
    "def get_stps():\n",
    "    stps = pd.read_csv(os.path.join(config['S_proc'], 'stps_act_user_50.csv'))\n",
    "    \n",
    "    stps.rename(columns={\"user_id\": \"userid\", \"started_at\": \"startt\", \"finished_at\": \"endt\"},inplace=True)\n",
    "\n",
    "    stps['startt'] = pd.to_datetime(stps['startt']).dt.tz_localize(None)\n",
    "    stps['endt'] = pd.to_datetime(stps['endt']).dt.tz_localize(None)\n",
    "    return stps\n",
    "\n",
    "def get_trips():\n",
    "    trips = pd.read_csv(os.path.join(config['S_proc'], 'trips.csv'))\n",
    "\n",
    "    trips.rename(columns={\"user_id\": \"userid\", \"started_at\": \"startt\", \"finished_at\": \"endt\"}, inplace=True)\n",
    "\n",
    "    trips['startt'] = pd.to_datetime(trips['startt']).dt.tz_localize(None)\n",
    "    trips['endt'] = pd.to_datetime(trips['endt']).dt.tz_localize(None)\n",
    "    return trips\n",
    "\n",
    "def _preprocess(df):\n",
    "    df.rename(\n",
    "        columns={\"userid\": \"user_id\", \"startt\": \"started_at\", \"endt\": \"finished_at\", \"dur_s\": \"duration\"}, inplace=True\n",
    "    )\n",
    "    return df\n",
    "\n",
    "def _get_all_trace(stps, trips):\n",
    "\n",
    "    stps = _preprocess(stps)\n",
    "    trips = _preprocess(trips)\n",
    "    print(\"User number:\", len(stps[\"user_id\"].unique()), len(trips[\"user_id\"].unique()))\n",
    "\n",
    "    # merge trips and staypoints\n",
    "    print(\"starting merge\", stps.shape, trips.shape)\n",
    "    stps[\"type\"] = \"stp\"\n",
    "    trips[\"type\"] = \"trip\"\n",
    "    df_all = pd.merge(stps, trips, how=\"outer\")\n",
    "    print(\"finished merge\", df_all.shape)\n",
    "    print(\"*\"*50)\n",
    "\n",
    "    return df_all\n",
    "\n",
    "stps = get_stps()\n",
    "trips = get_trips()\n",
    "all_trace = _get_all_trace(stps, trips)\n",
    "\n",
    "print(len(stps['user_id'].unique()), len(trips['user_id'].unique()), len(all_trace['user_id'].unique()))"
   ]
  },
  {
   "cell_type": "markdown",
   "metadata": {},
   "source": [
    "# Determine the user filter\n",
    "## Overall"
   ]
  },
  {
   "cell_type": "code",
   "execution_count": 36,
   "metadata": {},
   "outputs": [
    {
     "name": "stdout",
     "output_type": "stream",
     "text": [
      "     user_id   quality  days\n",
      "0       1617  0.992109   430\n",
      "1       1602  0.987011   434\n",
      "2       1721  0.986556   421\n",
      "3       1673  0.986205   415\n",
      "4       1716  0.985793   421\n",
      "..       ...       ...   ...\n",
      "111     1802  0.720105   406\n",
      "112     1628  0.717939   415\n",
      "113     1609  0.716239   421\n",
      "114     1601  0.716053   342\n",
      "115     1760  0.701097   415\n",
      "\n",
      "[116 rows x 3 columns]\n"
     ]
    }
   ],
   "source": [
    "# get the total quality and tracked days\n",
    "total_quality = temporal_tracking_quality(all_trace, granularity=\"all\")\n",
    "total_quality['days'] = all_trace.groupby(\"user_id\").apply(lambda x: (x['finished_at'].max() - x['started_at'].min()).days).values\n",
    "\n",
    "total_quality.sort_values(by='quality', ascending=False, inplace=True)\n",
    "\n",
    "# select total quality and tracked days\n",
    "selected = total_quality.loc[(total_quality['days']>300) & (total_quality['quality']>0.7)].reset_index(drop=True)\n",
    "# save\n",
    "selected.to_csv(os.path.join(config[\"results\"], \"SBB_user_filtered.csv\"), index=False)\n",
    "\n",
    "print(selected)"
   ]
  },
  {
   "cell_type": "markdown",
   "metadata": {},
   "source": [
    "## Sliding window"
   ]
  },
  {
   "cell_type": "code",
   "execution_count": 39,
   "metadata": {},
   "outputs": [
    {
     "name": "stdout",
     "output_type": "stream",
     "text": [
      "    user_id   quality\n",
      "0    1596.0  0.973634\n",
      "1    1597.0  0.966084\n",
      "2    1602.0  0.978700\n",
      "3    1605.0  0.922213\n",
      "4    1606.0  0.959640\n",
      "..      ...       ...\n",
      "88   1805.0  0.777991\n",
      "89   1810.0  0.872272\n",
      "90   1812.0  0.958226\n",
      "91   1848.0  0.954729\n",
      "92   1934.0  0.870983\n",
      "\n",
      "[93 rows x 2 columns]\n"
     ]
    }
   ],
   "source": [
    "def filter_user(df):\n",
    "    consider = df.loc[df['quality']!=0]\n",
    "    if consider['quality'].min() > 0.6:\n",
    "        return df\n",
    "\n",
    "def getTrackingQuality(df, window_size):\n",
    "\n",
    "    weeks = (df['finished_at'].max() - df['started_at'].min()).days // 7\n",
    "    start_date = df['started_at'].min().date()\n",
    "\n",
    "    quality_list = []\n",
    "    # construct the sliding week gdf\n",
    "    for i in range(0, weeks-window_size):\n",
    "        curr_start = datetime.datetime.combine(start_date + datetime.timedelta(weeks=i), datetime.time())\n",
    "        curr_end  = datetime.datetime.combine(curr_start + datetime.timedelta(weeks=window_size), datetime.time())\n",
    "\n",
    "        # the total df for this time window\n",
    "        cAll_gdf = df.loc[(df['started_at'] >= curr_start) & (df['finished_at'] < curr_end)]\n",
    "        if cAll_gdf.shape[0] == 0:\n",
    "            continue\n",
    "        total_sec = (curr_end-curr_start).total_seconds()\n",
    "\n",
    "        quality_list.append([i, cAll_gdf['duration'].sum()/total_sec])\n",
    "    ret = pd.DataFrame(quality_list, columns=['timestep','quality'])\n",
    "    ret[\"user_id\"] = df[\"user_id\"].unique()[0]\n",
    "    return ret\n",
    "\n",
    "sliding = all_trace.groupby(\"user_id\").apply(getTrackingQuality, window_size=10).reset_index(drop=True)\n",
    "\n",
    "# use selected as a filter \n",
    "sliding = sliding.loc[sliding['user_id'].isin(selected['user_id'].unique())]\n",
    "\n",
    "\n",
    "slide_user = sliding.groupby(\"user_id\").apply(filter_user).reset_index(drop=True).dropna()\n",
    "slide_user = slide_user.groupby(\"user_id\", as_index=False)[\"quality\"].mean()\n",
    "\n",
    "# save\n",
    "slide_user.to_csv(os.path.join(config[\"results\"], \"SBB_user_window_filtered.csv\"), index=False)\n",
    "\n",
    "print(slide_user)"
   ]
  },
  {
   "cell_type": "markdown",
   "metadata": {},
   "source": [
    "# Determine the time window\n",
    "We choose 5 or 10? as the time window. normalize by the tracking quality."
   ]
  },
  {
   "cell_type": "code",
   "execution_count": 4,
   "metadata": {
    "scrolled": false,
    "tags": []
   },
   "outputs": [
    {
     "name": "stdout",
     "output_type": "stream",
     "text": [
      "(93,)\n",
      "4\n",
      "-0.017 0.004 11.63 0.00 False\n",
      "-0.014 0.004 12.24 0.00 False\n",
      "**************************************************\n",
      "5\n",
      "-0.019 0.004 13.30 0.00 False\n",
      "-0.015 0.004 13.98 0.00 False\n",
      "**************************************************\n",
      "6\n",
      "-0.023 0.004 14.87 0.00 False\n",
      "-0.017 0.005 15.62 0.00 False\n",
      "**************************************************\n",
      "8\n",
      "-0.029 0.005 17.56 0.00 False\n",
      "-0.022 0.006 18.42 0.00 False\n",
      "**************************************************\n",
      "10\n",
      "-0.027 0.006 19.56 0.00 False\n",
      "-0.018 0.007 20.50 0.01 False\n",
      "**************************************************\n",
      "15\n",
      "-0.015 0.009 22.99 0.08 True\n",
      "-0.002 0.009 24.10 0.80 True\n",
      "**************************************************\n",
      "20\n",
      "-0.004 0.011 25.30 0.71 True\n",
      "0.012 0.012 26.56 0.33 True\n",
      "**************************************************\n"
     ]
    }
   ],
   "source": [
    "# get locations within the activity set\n",
    "def _get_act_locs(df, time_window=5, filter_len=10):\n",
    "    if df.shape[0] >= 2:\n",
    "        avg_duration_min = df['duration'].sum() / 60 / time_window\n",
    "        if avg_duration_min < filter_len:\n",
    "            len_class = 0\n",
    "        elif avg_duration_min < 30:\n",
    "            len_class = 1\n",
    "        elif avg_duration_min < 60:\n",
    "            len_class = 2\n",
    "        elif avg_duration_min < 60 * 6:\n",
    "            len_class = 3\n",
    "        elif avg_duration_min < 60 * 12:\n",
    "            len_class = 4\n",
    "        elif avg_duration_min < 60 * 24:\n",
    "            len_class = 5\n",
    "        elif avg_duration_min < 60 * 48:\n",
    "            len_class = 6\n",
    "        else:\n",
    "            len_class = 7\n",
    "        return pd.Series([avg_duration_min, len_class], index=['duration','class'])\n",
    "\n",
    "def applyParallel(dfGrouped, func, time_window):\n",
    "    # multiprocessing.cpu_count()\n",
    "    retLst = Parallel(n_jobs=multiprocessing.cpu_count())(delayed(func)(group, time_window) for name, group in dfGrouped)\n",
    "    return pd.concat(retLst)\n",
    "\n",
    "def getLocSize(df, time_window):\n",
    "    weeks = (df['started_at'].max() - df['started_at'].min()).days // 7\n",
    "    start_date = df['started_at'].min().date()\n",
    "    \n",
    "    res = []\n",
    "    for i in range(0, weeks-time_window+1):\n",
    "        curr_start = datetime.datetime.combine(start_date + datetime.timedelta(weeks=i), datetime.time())\n",
    "        curr_end  = datetime.datetime.combine(curr_start + datetime.timedelta(weeks=time_window), datetime.time())\n",
    "        \n",
    "        curr = df.loc[(df['started_at'] >= curr_start) & (df['finished_at'] <  curr_end)]\n",
    "\n",
    "#         loc\n",
    "        curr_stps = curr.loc[curr['type']=='stp']\n",
    "        curr_ASet = curr_stps.groupby('locid', as_index=False).apply(_get_act_locs, time_window=time_window).dropna()\n",
    "        if curr_ASet.empty:\n",
    "            continue\n",
    "        curr_ASet = curr_ASet.loc[curr_ASet['class']>0]\n",
    "        loc_capa = len(curr_ASet)\n",
    "\n",
    "#         quality\n",
    "        curr_quality = curr['duration'].sum()/(curr_end-curr_start).total_seconds()\n",
    "        if curr_quality > 1:\n",
    "            curr_quality = 1\n",
    "            \n",
    "#         get the results\n",
    "        if curr_quality == 0:\n",
    "            res.append([i, loc_capa, 0])\n",
    "        else:\n",
    "            res.append([i, loc_capa, loc_capa/curr_quality])\n",
    "    \n",
    "    res = pd.DataFrame(res, columns=['timeStep','loc','loc_norm'])\n",
    "    res['user_id'] = df['user_id'].unique()[0]\n",
    "    return res\n",
    "\n",
    "# files = glob.glob(os.path.join(config[\"S_act\"], \"*_aSet.csv\"))\n",
    "time_window_ls = [4, 5, 6, 8, 10, 15, 20]\n",
    "\n",
    "prop = 0.8\n",
    "selected_user = pd.read_csv(os.path.join(config[\"results\"], \"SBB_user_window_filtered.csv\"))[\"user_id\"].unique()\n",
    "print(selected_user.shape)\n",
    "\n",
    "# user filter\n",
    "selected_all_trace = all_trace.loc[all_trace['user_id'].isin(selected_user)]\n",
    "\n",
    "for time_window in time_window_ls:\n",
    "    \n",
    "    activity_set = applyParallel(selected_all_trace.groupby(\"user_id\"), getLocSize, time_window)\n",
    "    \n",
    "    # filter by timestep\n",
    "    temp = activity_set.groupby([\"user_id\",\"timeStep\"], as_index=False).size()\n",
    "    user_count = temp.groupby(\"timeStep\").size()\n",
    "    valid_timestep = (user_count.loc[user_count>=user_count.max()*prop].index).to_numpy()\n",
    "    activity_set = activity_set[activity_set['timeStep'].isin(valid_timestep)].reset_index(drop=True)\n",
    "\n",
    "    activity_set['timeStep'] = activity_set['timeStep'].astype(int)\n",
    "    activity_set['loc'] = activity_set['loc'].astype(int)\n",
    "    activity_set['loc_norm'] = activity_set['loc_norm'].astype(int)\n",
    "\n",
    "    print(time_window)\n",
    "    # simple linear regression for stability\n",
    "    slope, intercept, rvalue, p_value, std_err = stats.linregress(activity_set['timeStep'],activity_set['loc'])\n",
    "    print(\"{:.3f} {:.3f} {:.2f} {:.2f} {}\".format(slope, std_err, intercept, p_value, p_value>0.05))\n",
    "    slope, intercept, rvalue, p_value, std_err = stats.linregress(activity_set['timeStep'],activity_set['loc_norm'])\n",
    "    print(\"{:.3f} {:.3f} {:.2f} {:.2f} {}\".format(slope, std_err, intercept, p_value, p_value>0.05))\n",
    "\n",
    "    print(\"*\"*50)\n",
    "\n",
    "    # print(slope, intercept, rvalue, p_value, std_err)\n"
   ]
  },
  {
   "cell_type": "markdown",
   "metadata": {},
   "source": [
    "### Activity set plot"
   ]
  },
  {
   "cell_type": "code",
   "execution_count": 42,
   "metadata": {},
   "outputs": [],
   "source": [
    "prop = 0.8\n",
    "activity_set = applyParallel(selected_all_trace.groupby(\"user_id\"), getLocSize, time_window = 5)\n",
    "\n",
    "# filter by timestep\n",
    "temp = activity_set.groupby([\"user_id\",\"timeStep\"], as_index=False).size()\n",
    "user_count = temp.groupby(\"timeStep\").size()\n",
    "valid_timestep = (user_count.loc[user_count>=user_count.max()*prop].index).to_numpy()\n",
    "activity_set = activity_set[activity_set['timeStep'].isin(valid_timestep)].reset_index(drop=True)\n",
    "\n",
    "activity_set['timeStep'] = activity_set['timeStep'].astype(int)\n",
    "activity_set['loc'] = activity_set['loc'].astype(int)\n",
    "activity_set['loc_norm'] = activity_set['loc_norm'].astype(int)\n",
    "\n",
    "\n",
    "activity_set['timeStep'] = activity_set['timeStep'] + 5"
   ]
  },
  {
   "cell_type": "code",
   "execution_count": 47,
   "metadata": {},
   "outputs": [
    {
     "data": {
      "image/png": "[encoded data removed]",
      "text/plain": [
       "<Figure size 792x216 with 1 Axes>"
      ]
     },
     "metadata": {
      "needs_background": "light"
     },
     "output_type": "display_data"
    }
   ],
   "source": [
    "plot_actSet = activity_set.groupby('timeStep', as_index=False).mean()\n",
    "\n",
    "slope, intercept, rvalue, p_value, std_err = stats.linregress(activity_set['timeStep'],activity_set['loc_norm'])\n",
    "plt.figure(figsize=(11,3))\n",
    "plt.plot(plot_actSet['timeStep'], plot_actSet['loc_norm'], label=f'b = {slope:.4f} $\\pm$ {std_err:.4f}, p = {p_value:.3f}')\n",
    "\n",
    "plt.hlines(intercept, 5, 59, 'black',linestyles='dashed',alpha=1, label=f\"a = {intercept:.2f}\")\n",
    "\n",
    "plt.ylabel(\"Location Capacity $\\overline{C}$\",fontsize = 16)\n",
    "plt.xlabel(\"Time (weeks)\",fontsize = 16)\n",
    "plt.legend(prop={'size': 12})\n",
    "\n",
    "plt.ylim([0, 30])\n",
    "plt.legend()\n",
    "plt.show()"
   ]
  },
  {
   "cell_type": "markdown",
   "metadata": {},
   "source": [
    "### Trip set stability"
   ]
  },
  {
   "cell_type": "code",
   "execution_count": 7,
   "metadata": {
    "scrolled": false
   },
   "outputs": [
    {
     "name": "stdout",
     "output_type": "stream",
     "text": [
      "(93,)\n",
      "(93,)\n",
      "4\n",
      "-0.010 0.007 21.39 0.13 True\n",
      "-0.002 0.007 23.14 0.78 True\n",
      "**************************************************\n",
      "5\n",
      "-0.010 0.006 21.48 0.10 True\n",
      "-0.001 0.007 23.13 0.86 True\n",
      "**************************************************\n",
      "6\n",
      "-0.012 0.006 21.57 0.05 True\n",
      "-0.002 0.007 23.16 0.81 True\n",
      "**************************************************\n",
      "8\n",
      "-0.017 0.007 21.70 0.01 False\n",
      "-0.007 0.007 23.24 0.33 True\n",
      "**************************************************\n",
      "10\n",
      "-0.020 0.007 21.69 0.00 False\n",
      "-0.009 0.007 23.17 0.23 True\n",
      "**************************************************\n",
      "15\n",
      "-0.024 0.008 21.51 0.00 False\n",
      "-0.011 0.008 22.92 0.16 True\n",
      "**************************************************\n",
      "20\n",
      "-0.025 0.009 21.24 0.00 False\n",
      "-0.012 0.009 22.62 0.20 True\n",
      "**************************************************\n",
      "30\n",
      "-0.017 0.013 20.64 0.19 True\n",
      "-0.006 0.014 22.09 0.66 True\n",
      "**************************************************\n",
      "40\n",
      "0.010 0.024 20.02 0.66 True\n",
      "0.015 0.025 21.58 0.56 True\n",
      "**************************************************\n"
     ]
    }
   ],
   "source": [
    "def get_curr_trips(t, stps, ASet):\n",
    "    # get the locations in activity set\n",
    "    valid_stps = stps.loc[stps['locid'].isin(ASet['locid'].unique())]\n",
    "    \n",
    "    # consider trip that ends in valid stps\n",
    "    valid_t = t.loc[t['nstpid'].isin(valid_stps['id'])]\n",
    "    valid_t = valid_t[['id','length_m','duration','nstpid']]\n",
    "    \n",
    "    # enrich with loc id\n",
    "    valid_t = valid_t.merge(valid_stps[['id','locid']], left_on='nstpid', right_on='id')\n",
    "    \n",
    "    valid_t.drop(columns ={\"id_y\", \"nstpid\"}, inplace = True)\n",
    "    \n",
    "    # enrich with activity set class\n",
    "    valid_t = valid_t.merge(ASet[['locid', 'class']], on='locid', how='left')\n",
    "    \n",
    "    valid_t.rename(columns={'locid':'nloc', 'id_x':'tripid'}, inplace=True)\n",
    "\n",
    "    return valid_t\n",
    "\n",
    "def getTripSize(df, time_window):\n",
    "    weeks = (df['started_at'].max() - df['started_at'].min()).days // 7\n",
    "    start_date = df['started_at'].min().date()\n",
    "    \n",
    "    res = []\n",
    "    for i in range(0, weeks-time_window+1):\n",
    "        curr_start = datetime.datetime.combine(start_date + datetime.timedelta(weeks=i), datetime.time())\n",
    "        curr_end  = datetime.datetime.combine(curr_start + datetime.timedelta(weeks=time_window), datetime.time())\n",
    "        \n",
    "        curr = df.loc[(df['started_at'] >= curr_start) & (df['finished_at'] <  curr_end)]\n",
    "#         get activity set\n",
    "        curr_stps = curr.loc[curr['type'] == 'stp']\n",
    "        curr_ASet = curr_stps.groupby('locid', as_index=False).apply(_get_act_locs, time_window=time_window).dropna()\n",
    "        if curr_ASet.empty:\n",
    "            continue\n",
    "        curr_ASet = curr_ASet.loc[curr_ASet['class']>0]\n",
    "        \n",
    "#         get activity set\n",
    "        curr_t = curr.loc[curr['type'] == 'trip']\n",
    "        curr_tSet = get_curr_trips(curr_t, curr_stps, curr_ASet)\n",
    "        \n",
    "#         quality\n",
    "        curr_quality = curr['duration'].sum()/(curr_end-curr_start).total_seconds()\n",
    "        \n",
    "        if curr_quality > 1:\n",
    "            curr_quality = 1\n",
    "        \n",
    "        trip_capa = len(curr_tSet)/time_window\n",
    "#         get the results\n",
    "        if curr_quality == 0:\n",
    "            res.append([i, trip_capa, 0])\n",
    "        else:\n",
    "            res.append([i, trip_capa, trip_capa/curr_quality])\n",
    "\n",
    "    \n",
    "    res = pd.DataFrame(res, columns=['timeStep','trip','trip_norm'])\n",
    "    res['user_id'] = df['user_id'].unique()[0]\n",
    "    return res\n",
    "\n",
    "time_window_ls = [4, 5, 6, 8, 10, 15, 20, 30, 40]\n",
    "\n",
    "prop = 0.8\n",
    "selected_user = pd.read_csv(os.path.join(config[\"results\"], \"SBB_user_window_filtered.csv\"))[\"user_id\"].unique()\n",
    "print(selected_user.shape)\n",
    "\n",
    "# user filter\n",
    "selected_all_trace = all_trace.loc[all_trace['user_id'].isin(selected_user)]\n",
    "print(selected_all_trace[\"user_id\"].unique().shape)\n",
    "\n",
    "for time_window in time_window_ls:\n",
    "    trip_set = applyParallel(selected_all_trace.groupby(\"user_id\"), getTripSize, time_window = time_window)\n",
    "    # filter by timestep\n",
    "    temp = trip_set.groupby([\"user_id\",\"timeStep\"], as_index=False).size()\n",
    "    user_count = temp.groupby(\"timeStep\").size()\n",
    "    valid_timestep = (user_count.loc[user_count>=user_count.max()*prop].index).to_numpy()\n",
    "    trip_set = trip_set[trip_set['timeStep'].isin(valid_timestep)].reset_index(drop=True)\n",
    "\n",
    "    trip_set['timeStep'] = trip_set['timeStep'].astype(int)\n",
    "    trip_set['trip'] = trip_set['trip'].astype(int)\n",
    "    trip_set['trip_norm'] = trip_set['trip_norm'].astype(int)\n",
    "\n",
    "    trip_set['timeStep'] = trip_set['timeStep'] + 5\n",
    "    \n",
    "    print(time_window)\n",
    "    slope, intercept, rvalue, p_value, std_err = stats.linregress(trip_set['timeStep'],trip_set['trip'])\n",
    "    print(\"{:.3f} {:.3f} {:.2f} {:.2f} {}\".format(slope, std_err, intercept, p_value, p_value>0.05))\n",
    "    slope, intercept, rvalue, p_value, std_err = stats.linregress(trip_set['timeStep'],trip_set['trip_norm'])\n",
    "    print(\"{:.3f} {:.3f} {:.2f} {:.2f} {}\".format(slope, std_err, intercept, p_value, p_value>0.05))\n",
    "    print(\"*\"*50)"
   ]
  },
  {
   "cell_type": "markdown",
   "metadata": {},
   "source": [
    "### Trip set plot"
   ]
  },
  {
   "cell_type": "code",
   "execution_count": 68,
   "metadata": {},
   "outputs": [
    {
     "name": "stdout",
     "output_type": "stream",
     "text": [
      "-0.010 0.006 21.48 0.10 True\n",
      "-0.001 0.007 23.13 0.86 True\n"
     ]
    }
   ],
   "source": [
    "trip_set = applyParallel(selected_all_trace.groupby(\"user_id\"), getTripSize, time_window = 5)\n",
    "# filter by timestep\n",
    "temp = trip_set.groupby([\"user_id\",\"timeStep\"], as_index=False).size()\n",
    "user_count = temp.groupby(\"timeStep\").size()\n",
    "valid_timestep = (user_count.loc[user_count>=user_count.max()*prop].index).to_numpy()\n",
    "trip_set = trip_set[trip_set['timeStep'].isin(valid_timestep)].reset_index(drop=True)\n",
    "\n",
    "trip_set['timeStep'] = trip_set['timeStep'].astype(int)\n",
    "trip_set['trip'] = trip_set['trip'].astype(int)\n",
    "trip_set['trip_norm'] = trip_set['trip_norm'].astype(int)\n",
    "\n",
    "trip_set['timeStep'] = trip_set['timeStep'] + 5\n",
    "\n",
    "slope, intercept, rvalue, p_value, std_err = stats.linregress(trip_set['timeStep'],trip_set['trip'])\n",
    "print(\"{:.3f} {:.3f} {:.2f} {:.2f} {}\".format(slope, std_err, intercept, p_value, p_value>0.05))\n",
    "slope, intercept, rvalue, p_value, std_err = stats.linregress(trip_set['timeStep'],trip_set['trip_norm'])\n",
    "print(\"{:.3f} {:.3f} {:.2f} {:.2f} {}\".format(slope, std_err, intercept, p_value, p_value>0.05))"
   ]
  },
  {
   "cell_type": "code",
   "execution_count": 77,
   "metadata": {},
   "outputs": [
    {
     "data": {
      "image/png": "[encoded data removed]",
      "text/plain": [
       "<Figure size 792x216 with 1 Axes>"
      ]
     },
     "metadata": {
      "needs_background": "light"
     },
     "output_type": "display_data"
    }
   ],
   "source": [
    "plot_tripSet = trip_set.groupby('timeStep', as_index=False).mean()\n",
    "\n",
    "slope, intercept, rvalue, p_value, std_err = stats.linregress(trip_set['timeStep'],trip_set['trip_norm'])\n",
    "plt.figure(figsize=(11,3))\n",
    "plt.plot(plot_tripSet['timeStep'], plot_tripSet['trip_norm'], label=f'b = {slope:.4f} $\\pm$ {std_err:.4f}, p = {p_value:.3f}')\n",
    "\n",
    "plt.hlines(intercept, 5, 59, 'black',linestyles='dashed',alpha=1)\n",
    "\n",
    "plt.ylabel(\"Trip capacity/week\",fontsize = 16)\n",
    "plt.xlabel(\"Time (weeks)\",fontsize = 16)\n",
    "plt.legend(prop={'size': 12})\n",
    "\n",
    "plt.ylim([0, 50])\n",
    "plt.legend()\n",
    "plt.savefig(r'C:\\Work\\Projects\\GIScience\\data\\Figure\\trip_stability.png', bbox_inches='tight', dpi=600)\n",
    "plt.show()"
   ]
  },
  {
   "cell_type": "markdown",
   "metadata": {},
   "source": [
    "## Net gain"
   ]
  },
  {
   "cell_type": "code",
   "execution_count": 31,
   "metadata": {
    "scrolled": false
   },
   "outputs": [
    {
     "name": "stdout",
     "output_type": "stream",
     "text": [
      "(93,)\n",
      "(93,)\n"
     ]
    }
   ],
   "source": [
    "from tqdm import tqdm\n",
    "\n",
    "def get_curr_trips(t, stps, ASet):\n",
    "    # get the locations in activity set\n",
    "    valid_stps = stps.loc[stps['locid'].isin(ASet['locid'].unique())]\n",
    "    \n",
    "    # consider trip that ends in valid stps\n",
    "    valid_t = t.loc[t['nstpid'].isin(valid_stps['id'])]\n",
    "    valid_t = valid_t[['id','length_m','duration','nstpid']]\n",
    "    \n",
    "    # enrich with loc id\n",
    "    valid_t = valid_t.merge(valid_stps[['id','locid']], left_on='nstpid', right_on='id')\n",
    "    \n",
    "    valid_t.drop(columns ={\"id_y\", \"nstpid\"}, inplace = True)\n",
    "    \n",
    "    # enrich with activity set class\n",
    "    valid_t = valid_t.merge(ASet[['locid', 'class']], on='locid', how='left')\n",
    "    \n",
    "    valid_t.rename(columns={'locid':'nloc', 'id_x':'tripid'}, inplace=True)\n",
    "\n",
    "    return valid_t\n",
    "\n",
    "def applyParallel(dfGrouped, func, time_window):\n",
    "    # multiprocessing.cpu_count()\n",
    "    retLst = Parallel(n_jobs=multiprocessing.cpu_count())(delayed(func)(group, time_window) for name, group in dfGrouped)\n",
    "    return pd.concat(retLst)\n",
    "\n",
    "def getTripSet(df, time_window):\n",
    "    weeks = (df['started_at'].max() - df['started_at'].min()).days // 7\n",
    "    start_date = df['started_at'].min().date()\n",
    "    \n",
    "    res = []\n",
    "    for i in range(0, weeks-time_window+1):\n",
    "        curr_start = datetime.datetime.combine(start_date + datetime.timedelta(weeks=i), datetime.time())\n",
    "        curr_end  = datetime.datetime.combine(curr_start + datetime.timedelta(weeks=time_window), datetime.time())\n",
    "        \n",
    "        curr = df.loc[(df['started_at'] >= curr_start) & (df['finished_at'] <  curr_end)]\n",
    "#         get activity set\n",
    "        curr_stps = curr.loc[curr['type'] == 'stp']\n",
    "        curr_ASet = curr_stps.groupby('locid', as_index=False).apply(_get_act_locs, time_window=time_window).dropna()\n",
    "        if curr_ASet.empty:\n",
    "            continue\n",
    "        curr_ASet = curr_ASet.loc[curr_ASet['class']>0]\n",
    "        \n",
    "#         get trip set\n",
    "        curr_t = curr.loc[curr['type'] == 'trip']\n",
    "        curr_tSet = get_curr_trips(curr_t, curr_stps, curr_ASet)\n",
    "        \n",
    "        curr_tSet[\"timeStep\"] = i\n",
    "        \n",
    "#         get the results\n",
    "        res.append(curr_tSet[[\"tripid\", \"timeStep\"]])\n",
    "\n",
    "    res = pd.concat(res)\n",
    "    res['user_id'] = df['user_id'].unique()[0]\n",
    "    return res\n",
    "\n",
    "time_window = 10\n",
    "\n",
    "prop = 0.8\n",
    "selected_user = pd.read_csv(os.path.join(config[\"results\"], \"SBB_user_window_filtered.csv\"))[\"user_id\"].unique()\n",
    "print(selected_user.shape)\n",
    "\n",
    "# user filter\n",
    "selected_all_trace = all_trace.loc[all_trace['user_id'].isin(selected_user)]\n",
    "print(selected_all_trace[\"user_id\"].unique().shape)\n",
    "\n",
    "trip_set = applyParallel(selected_all_trace.groupby(\"user_id\"), getTripSet, time_window = time_window)"
   ]
  },
  {
   "cell_type": "code",
   "execution_count": 32,
   "metadata": {
    "scrolled": false
   },
   "outputs": [
    {
     "name": "stdout",
     "output_type": "stream",
     "text": [
      "100.0\n"
     ]
    }
   ],
   "source": [
    "def net_gain_individual(df):\n",
    "#     print(df)\n",
    "    set_ls = df.groupby('timeStep')['tripid'].apply(lambda x: set(x)).to_list()\n",
    "    \n",
    "    gain_ls = []\n",
    "    for i in range(len(set_ls)-1):\n",
    "        add = len(set_ls[i+1] - set_ls[i])\n",
    "        remove = len(set_ls[i] - set_ls[i+1])\n",
    "        \n",
    "        gain_ls.append((add - remove))\n",
    "    mean = np.mean(gain_ls)\n",
    "    std = np.std(gain_ls)\n",
    "    \n",
    "    stable = np.abs(mean)/std <1\n",
    "    return stable\n",
    "\n",
    "stable_num = trip_set.groupby(\"user_id\").apply(net_gain_individual)\n",
    "print(stable_num.sum()/stable_num.shape[0] * 100)"
   ]
  },
  {
   "cell_type": "code",
   "execution_count": null,
   "metadata": {},
   "outputs": [],
   "source": []
  }
 ],
 "metadata": {
  "kernelspec": {
   "display_name": "Python 3",
   "language": "python",
   "name": "python3"
  },
  "language_info": {
   "codemirror_mode": {
    "name": "ipython",
    "version": 3
   },
   "file_extension": ".py",
   "mimetype": "text/x-python",
   "name": "python",
   "nbconvert_exporter": "python",
   "pygments_lexer": "ipython3",
   "version": "3.7.9"
  }
 },
 "nbformat": 4,
 "nbformat_minor": 2
}
