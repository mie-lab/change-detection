{
 "cells": [
  {
   "cell_type": "code",
   "execution_count": 11,
   "metadata": {},
   "outputs": [],
   "source": [
    "import numpy as np\n",
    "import pandas as pd\n",
    "import geopandas as gpd\n",
    "import os\n",
    "import sys\n",
    "from shapely import wkt\n",
    "from tqdm import tqdm\n",
    "import itertools\n",
    "import datetime\n",
    "\n",
    "\n",
    "from config import config\n",
    "\n",
    "sys.path.append(os.path.join(os.getcwd(), \"trackintel\"))\n",
    "import trackintel as ti"
   ]
  },
  {
   "cell_type": "markdown",
   "metadata": {},
   "source": [
    "# data size"
   ]
  },
  {
   "cell_type": "code",
   "execution_count": 3,
   "metadata": {},
   "outputs": [
    {
     "name": "stdout",
     "output_type": "stream",
     "text": [
      "(93,)\n"
     ]
    }
   ],
   "source": [
    "selected_user = pd.read_csv(os.path.join(config[\"results\"], \"SBB_user_window_filtered.csv\"))[\"user_id\"].unique()\n",
    "print(selected_user.shape)"
   ]
  },
  {
   "cell_type": "code",
   "execution_count": 15,
   "metadata": {},
   "outputs": [
    {
     "name": "stdout",
     "output_type": "stream",
     "text": [
      "Number of triplegs: 344740\n"
     ]
    }
   ],
   "source": [
    "tpls = pd.read_csv(os.path.join(config['S_raw2'], 'tpls.csv'))\n",
    "tpls = tpls.loc[tpls['user_id'].isin(selected_user)]\n",
    "print(\"Number of triplegs: {}\".format(len(tpls[\"id\"].unique())))"
   ]
  },
  {
   "cell_type": "code",
   "execution_count": 18,
   "metadata": {},
   "outputs": [
    {
     "name": "stdout",
     "output_type": "stream",
     "text": [
      "Number of locations: 46489\n",
      "Number of locations: 46489\n"
     ]
    }
   ],
   "source": [
    "locs = pd.read_csv(os.path.join(config['S_proc'], 'locs_user_50.csv'))\n",
    "locs = locs.loc[locs['userid'].isin(selected_user)]\n",
    "print(\"Number of locations: {}\".format(len(locs[\"id\"].unique())))\n",
    "\n",
    "stps_locs = pd.read_csv(os.path.join(config['S_proc'], 'stps_act_user_50.csv'))\n",
    "stps_locs = stps_locs.loc[stps_locs['userid'].isin(selected_user)]\n",
    "print(\"Number of locations: {}\".format(len(stps_locs[\"locid\"].unique())))"
   ]
  },
  {
   "cell_type": "code",
   "execution_count": 20,
   "metadata": {
    "scrolled": true
   },
   "outputs": [
    {
     "name": "stdout",
     "output_type": "stream",
     "text": [
      "Number of staypoints: 193637\n"
     ]
    }
   ],
   "source": [
    "stps = pd.read_csv(os.path.join(config['S_raw2'], 'stps.csv'))\n",
    "stps = stps.loc[stps['user_id'].isin(selected_user)]\n",
    "print(\"Number of staypoints: {}\".format(len(stps[\"id\"].unique())))"
   ]
  },
  {
   "cell_type": "code",
   "execution_count": 22,
   "metadata": {},
   "outputs": [
    {
     "name": "stdout",
     "output_type": "stream",
     "text": [
      "Number of trips: 181479\n"
     ]
    }
   ],
   "source": [
    "trips = pd.read_csv(os.path.join(config['S_proc'], 'trips.csv'))\n",
    "trips = trips.loc[trips['userid'].isin(selected_user)]\n",
    "print(\"Number of trips: {}\".format(len(trips[\"id\"].unique())))"
   ]
  },
  {
   "cell_type": "code",
   "execution_count": 12,
   "metadata": {},
   "outputs": [],
   "source": [
    "def get_stps():\n",
    "    \n",
    "    \n",
    "    stps.rename(columns={\"user_id\": \"userid\", \"started_at\": \"startt\", \"finished_at\": \"endt\"},inplace=True)\n",
    "\n",
    "    stps['startt'] = pd.to_datetime(stps['startt']).dt.tz_localize(None)\n",
    "    stps['endt'] = pd.to_datetime(stps['endt']).dt.tz_localize(None)\n",
    "    return stps\n",
    "\n",
    "def get_trips():\n",
    "    \n",
    "\n",
    "    trips.rename(columns={\"user_id\": \"userid\", \"started_at\": \"startt\", \"finished_at\": \"endt\"}, inplace=True)\n",
    "\n",
    "    trips['startt'] = pd.to_datetime(trips['startt']).dt.tz_localize(None)\n",
    "    trips['endt'] = pd.to_datetime(trips['endt']).dt.tz_localize(None)\n",
    "    return trips\n",
    "\n",
    "locs = pd.read_csv(os.path.join(config['S_proc'], 'stps_act_user_50.csv'))\n",
    "trips = pd.read_csv(os.path.join(config['S_proc'], 'trips.csv'))\n",
    "\n"
   ]
  },
  {
   "cell_type": "code",
   "execution_count": 11,
   "metadata": {},
   "outputs": [
    {
     "name": "stdout",
     "output_type": "stream",
     "text": [
      "Number of locations: 63133\n",
      "Number of trips: 245689\n"
     ]
    }
   ],
   "source": [
    "print(\"Number of locations: {}\".format(len(stps[\"locid\"].unique())))\n",
    "print(\"Number of trips: {}\".format(len(trips[\"id\"].unique())))\n"
   ]
  },
  {
   "cell_type": "markdown",
   "metadata": {},
   "source": [
    "# intermodal trips\n"
   ]
  },
  {
   "cell_type": "code",
   "execution_count": 22,
   "metadata": {},
   "outputs": [],
   "source": [
    "trips_df = pd.read_csv(os.path.join(config[\"S_proc\"], \"trips_forMainMode.csv\"))"
   ]
  },
  {
   "cell_type": "code",
   "execution_count": 23,
   "metadata": {},
   "outputs": [
    {
     "name": "stderr",
     "output_type": "stream",
     "text": [
      "100%|████████████████████████████████████████████████████████████████████████| 245689/245689 [03:52<00:00, 1054.68it/s]\n"
     ]
    }
   ],
   "source": [
    "from joblib import Parallel, delayed\n",
    "import multiprocessing\n",
    "\n",
    "def applyParallel(dfGrouped, func):\n",
    "    # multiprocessing.cpu_count()\n",
    "    retLst = Parallel(n_jobs=multiprocessing.cpu_count())(delayed(func)(group) for _, group in tqdm(dfGrouped))\n",
    "    return pd.concat(retLst)\n",
    "\n",
    "def get_unique_mode_distance(df):\n",
    "    df = df.iloc[0]\n",
    "    modes = \" \".join(df[\"mode_len\"][1:-1].split()).split(\" \")\n",
    "    dist = \" \".join(df[\"mode_lenProp\"][1:-1].split()).split(\" \")\n",
    "    mode_df = pd.DataFrame([modes, dist]).T\n",
    "    mode_df.columns=[\"Mode\",\"Distance\"]\n",
    "    mode_df[\"Distance\"] = mode_df[\"Distance\"].astype(\"float\")\n",
    "    \n",
    "    top2 = mode_df.groupby(\"Mode\", as_index=False).sum().sort_values(by=\"Distance\", ascending=False).head(2)\n",
    "    res_dict = {}\n",
    "    res_dict[\"id\"] = df[\"id\"]\n",
    "    res_dict[\"mode_1\"] = top2[\"Mode\"].values[0]\n",
    "    res_dict[\"modeProp_1\"] = top2[\"Distance\"].values[0]\n",
    "    if len(top2) == 2:\n",
    "        res_dict[\"mode_2\"] = top2[\"Mode\"].values[1]\n",
    "        res_dict[\"modeProp_2\"] = top2[\"Distance\"].values[1]\n",
    "\n",
    "    return pd.Series(res_dict).to_frame().T\n",
    "\n",
    "# tqdm.pandas(desc=\"Extract mode\")\n",
    "# extracted_df = trips_df.progress_apply(get_unique_mode_distance, axis=1)\n",
    "extracted_df = applyParallel(trips_df.groupby(\"id\"), get_unique_mode_distance)\n",
    "extracted_df.index = np.arange(len(extracted_df))\n",
    "extracted_df = extracted_df.loc[(extracted_df[\"mode_1\"] != \"''\") & (extracted_df[\"mode_2\"] != \"''\")]"
   ]
  },
  {
   "cell_type": "code",
   "execution_count": 24,
   "metadata": {},
   "outputs": [
    {
     "data": {
      "text/html": [
       "<div>\n",
       "<style scoped>\n",
       "    .dataframe tbody tr th:only-of-type {\n",
       "        vertical-align: middle;\n",
       "    }\n",
       "\n",
       "    .dataframe tbody tr th {\n",
       "        vertical-align: top;\n",
       "    }\n",
       "\n",
       "    .dataframe thead th {\n",
       "        text-align: right;\n",
       "    }\n",
       "</style>\n",
       "<table border=\"1\" class=\"dataframe\">\n",
       "  <thead>\n",
       "    <tr style=\"text-align: right;\">\n",
       "      <th></th>\n",
       "      <th>id</th>\n",
       "      <th>mode_1</th>\n",
       "      <th>modeProp_1</th>\n",
       "      <th>mode_2</th>\n",
       "      <th>modeProp_2</th>\n",
       "    </tr>\n",
       "  </thead>\n",
       "  <tbody>\n",
       "    <tr>\n",
       "      <th>0</th>\n",
       "      <td>0</td>\n",
       "      <td>'Mode::Train'</td>\n",
       "      <td>0.936252</td>\n",
       "      <td>'Mode::Walk'</td>\n",
       "      <td>0.0637482</td>\n",
       "    </tr>\n",
       "    <tr>\n",
       "      <th>1</th>\n",
       "      <td>1</td>\n",
       "      <td>'Mode::Train'</td>\n",
       "      <td>0.944693</td>\n",
       "      <td>'Mode::Walk'</td>\n",
       "      <td>0.0553069</td>\n",
       "    </tr>\n",
       "    <tr>\n",
       "      <th>2</th>\n",
       "      <td>2</td>\n",
       "      <td>'Mode::Walk'</td>\n",
       "      <td>1</td>\n",
       "      <td>NaN</td>\n",
       "      <td>NaN</td>\n",
       "    </tr>\n",
       "    <tr>\n",
       "      <th>3</th>\n",
       "      <td>3</td>\n",
       "      <td>'Mode::Walk'</td>\n",
       "      <td>1</td>\n",
       "      <td>NaN</td>\n",
       "      <td>NaN</td>\n",
       "    </tr>\n",
       "    <tr>\n",
       "      <th>4</th>\n",
       "      <td>4</td>\n",
       "      <td>'Mode::Car'</td>\n",
       "      <td>1</td>\n",
       "      <td>NaN</td>\n",
       "      <td>NaN</td>\n",
       "    </tr>\n",
       "    <tr>\n",
       "      <th>...</th>\n",
       "      <td>...</td>\n",
       "      <td>...</td>\n",
       "      <td>...</td>\n",
       "      <td>...</td>\n",
       "      <td>...</td>\n",
       "    </tr>\n",
       "    <tr>\n",
       "      <th>245684</th>\n",
       "      <td>245684</td>\n",
       "      <td>'Mode::Car'</td>\n",
       "      <td>0.794674</td>\n",
       "      <td>'Mode::Walk'</td>\n",
       "      <td>0.205326</td>\n",
       "    </tr>\n",
       "    <tr>\n",
       "      <th>245685</th>\n",
       "      <td>245685</td>\n",
       "      <td>'Mode::Walk'</td>\n",
       "      <td>0.573189</td>\n",
       "      <td>'Mode::Train'</td>\n",
       "      <td>0.339477</td>\n",
       "    </tr>\n",
       "    <tr>\n",
       "      <th>245686</th>\n",
       "      <td>245686</td>\n",
       "      <td>'Mode::Car'</td>\n",
       "      <td>1</td>\n",
       "      <td>NaN</td>\n",
       "      <td>NaN</td>\n",
       "    </tr>\n",
       "    <tr>\n",
       "      <th>245687</th>\n",
       "      <td>245687</td>\n",
       "      <td>'Mode::Car'</td>\n",
       "      <td>1</td>\n",
       "      <td>NaN</td>\n",
       "      <td>NaN</td>\n",
       "    </tr>\n",
       "    <tr>\n",
       "      <th>245688</th>\n",
       "      <td>245688</td>\n",
       "      <td>'Mode::Car'</td>\n",
       "      <td>1</td>\n",
       "      <td>NaN</td>\n",
       "      <td>NaN</td>\n",
       "    </tr>\n",
       "  </tbody>\n",
       "</table>\n",
       "<p>245689 rows × 5 columns</p>\n",
       "</div>"
      ],
      "text/plain": [
       "            id         mode_1 modeProp_1         mode_2 modeProp_2\n",
       "0            0  'Mode::Train'   0.936252   'Mode::Walk'  0.0637482\n",
       "1            1  'Mode::Train'   0.944693   'Mode::Walk'  0.0553069\n",
       "2            2   'Mode::Walk'          1            NaN        NaN\n",
       "3            3   'Mode::Walk'          1            NaN        NaN\n",
       "4            4    'Mode::Car'          1            NaN        NaN\n",
       "...        ...            ...        ...            ...        ...\n",
       "245684  245684    'Mode::Car'   0.794674   'Mode::Walk'   0.205326\n",
       "245685  245685   'Mode::Walk'   0.573189  'Mode::Train'   0.339477\n",
       "245686  245686    'Mode::Car'          1            NaN        NaN\n",
       "245687  245687    'Mode::Car'          1            NaN        NaN\n",
       "245688  245688    'Mode::Car'          1            NaN        NaN\n",
       "\n",
       "[245689 rows x 5 columns]"
      ]
     },
     "execution_count": 24,
     "metadata": {},
     "output_type": "execute_result"
    }
   ],
   "source": [
    "extracted_df"
   ]
  },
  {
   "cell_type": "code",
   "execution_count": 34,
   "metadata": {},
   "outputs": [
    {
     "name": "stdout",
     "output_type": "stream",
     "text": [
      "29.4221556520642\n"
     ]
    }
   ],
   "source": [
    "inter_trip = extracted_df.loc[~extracted_df['mode_2'].isna()]\n",
    "\n",
    "inter_trip = trips_df.loc[trips_df[\"id\"].isin(inter_trip[\"id\"])]\n",
    "print(inter_trip.shape[0]/extracted_df.shape[0] *100)\n",
    "inter_trip = inter_trip[[\"id\", \"mode_ls\", \"userid\"]]"
   ]
  },
  {
   "cell_type": "code",
   "execution_count": 35,
   "metadata": {},
   "outputs": [],
   "source": [
    "def _ifOnlyWalk(row):\n",
    "    modes = set(row.split(\",\"))\n",
    "    walkExist = \"Mode::Walk\" in modes\n",
    "    length = len(modes) == 1\n",
    "    return walkExist & length\n",
    "def _encode(ori_str, mode_dict):\n",
    "    for mode, value in mode_dict.items():\n",
    "        ori_str = ori_str.replace(mode, value)\n",
    "    # join adjacent same mode\n",
    "    return \"\".join(i for i, _ in itertools.groupby(ori_str.replace(\",\", \"\")))\n",
    "\n",
    "mode_dict = {\n",
    "    \"Mode::Airplane\": \"\",\n",
    "    \"Mode::Bicycle\": \"b\",\n",
    "    \"Mode::Boat\": \"d\",\n",
    "    \"Mode::Bus\": \"d\",\n",
    "    \"Mode::Car\": \"e\",\n",
    "    \"Mode::Coach\": \"f\",\n",
    "    \"Mode::Ebicycle\": \"g\",\n",
    "    \"Mode::Ecar\": \"h\",\n",
    "    \"Mode::Ski\": \"\",\n",
    "    \"Mode::Train\": \"i\",\n",
    "    \"Mode::Tram\": \"j\",\n",
    "    \"Mode::Walk\": \"\",\n",
    "}\n",
    "\n",
    "ifOnlyWalk = inter_trip[\"mode_ls\"].apply(_ifOnlyWalk)\n",
    "inter_trip.loc[ifOnlyWalk, \"mode\"] = \"k\"\n",
    "inter_trip.loc[~ifOnlyWalk, \"mode\"] = [_encode(i, mode_dict) for i in inter_trip.loc[~ifOnlyWalk, \"mode_ls\"].to_list()]"
   ]
  },
  {
   "cell_type": "code",
   "execution_count": 41,
   "metadata": {},
   "outputs": [
    {
     "data": {
      "text/plain": [
       "0.6449845753731653"
      ]
     },
     "execution_count": 41,
     "metadata": {},
     "output_type": "execute_result"
    }
   ],
   "source": [
    "modeNum = inter_trip[\"mode\"].apply(lambda x: len(x))\n",
    "sum(modeNum==1)/len(inter_trip)"
   ]
  },
  {
   "cell_type": "markdown",
   "metadata": {},
   "source": [
    "## Change of top1 loc\n",
    "As indicator of home change"
   ]
  },
  {
   "cell_type": "code",
   "execution_count": 3,
   "metadata": {},
   "outputs": [
    {
     "output_type": "stream",
     "name": "stdout",
     "text": [
      "93\n"
     ]
    }
   ],
   "source": [
    "def get_stps():\n",
    "    stps = pd.read_csv(os.path.join(config['S_proc'], 'stps_act_user_50.csv'))\n",
    "    \n",
    "    stps.rename(columns={\"user_id\": \"userid\", \"started_at\": \"startt\", \"finished_at\": \"endt\"},inplace=True)\n",
    "\n",
    "    stps['startt'] = pd.to_datetime(stps['startt']).dt.tz_localize(None)\n",
    "    stps['endt'] = pd.to_datetime(stps['endt']).dt.tz_localize(None)\n",
    "    return stps\n",
    "\n",
    "stps = get_stps()\n",
    "valid_user = pd.read_csv(config[\"results\"] + \"\\\\SBB_user_window_filtered.csv\")[\"user_id\"].unique()\n",
    "valid_user = valid_user.astype(int)\n",
    "stps = stps.loc[stps[\"userid\"].isin(valid_user)]\n",
    "\n",
    "print(len(stps['userid'].unique()))"
   ]
  },
  {
   "cell_type": "code",
   "execution_count": 4,
   "metadata": {
    "scrolled": false
   },
   "outputs": [],
   "source": [
    "\n",
    "def get_top1_changed_flag(df):\n",
    "    window_size = 10\n",
    "\n",
    "    weeks = (df[\"endt\"].max() - df[\"startt\"].min()).days // 7\n",
    "    start_date = df[\"startt\"].min().date()\n",
    "    \n",
    "    top1_ls = []\n",
    "    for i in range(0, weeks - window_size + 1):\n",
    "        curr_start = datetime.datetime.combine(start_date + datetime.timedelta(weeks=i), datetime.time())\n",
    "        curr_end = datetime.datetime.combine(curr_start + datetime.timedelta(weeks=window_size), datetime.time())\n",
    "\n",
    "        # current trip\n",
    "        curr = df.loc[(df[\"startt\"] >= curr_start) & (df[\"endt\"] < curr_end)]\n",
    "        \n",
    "        top1_loc = curr.groupby(\"locid\")[\"duration\"].sum().sort_values(ascending=False).head(1).index.values[0]\n",
    "        top1_ls.append(top1_loc)\n",
    "    \n",
    "    if np.unique(top1_ls).shape[0] == 1:\n",
    "        return False\n",
    "    else:\n",
    "        return True\n",
    "\n",
    "change_df = stps.groupby(\"userid\").apply(get_top1_changed_flag)"
   ]
  },
  {
   "cell_type": "code",
   "execution_count": 5,
   "metadata": {},
   "outputs": [],
   "source": [
    "changed_user = change_df.loc[change_df==True]"
   ]
  },
  {
   "cell_type": "code",
   "execution_count": 19,
   "metadata": {
    "scrolled": false
   },
   "outputs": [
    {
     "name": "stdout",
     "output_type": "stream",
     "text": [
      "1651\n",
      "[32894, 32894, 32894, 32894, 32894, 32894, 32894, 32894, 32894, 32894, 32905, 32905, 32905, 32905, 32905, 32905, 32905, 32905, 32905, 32905, 32905, 32905, 32905, 32905, 32905, 32905, 32905, 32905, 32905, 32905, 32905, 32905, 32905, 32905, 32905, 32905, 32905, 32905, 32905, 32905, 32905, 32905, 32905, 32905, 32905, 32905, 32905, 32905, 32905, 32905, 32905]\n",
      "1650\n",
      "[17294, 17294, 17294, 17294, 17294, 17294, 17294, 17294, 17294, 17294, 17294, 17294, 17294, 17294, 17294, 17294, 17294, 17294, 17294, 17294, 17294, 17294, 17294, 17294, 17294, 17294, 17294, 17294, 17294, 17294, 17294, 17294, 17294, 17294, 17294, 17294, 17294, 17560, 17560, 17560, 17560, 17560, 17560, 17560, 17560, 17749, 17749, 17749, 17749, 17749, 17749, 17749]\n",
      "1631\n",
      "[13038, 13038, 13038, 13038, 13038, 13038, 13038, 13038, 13038, 13038, 13038, 13038, 13038, 13038, 13038, 13038, 13038, 13038, 13038, 13038, 13038, 13038, 13038, 13038, 13038, 13042, 13042, 13042, 13042, 13042, 13038, 13038, 13038, 13038, 13038, 13038, 13038, 13038, 13038, 13038, 13038, 13038, 13038, 13038, 13038, 13038, 13038, 13042, 13038, 13038, 13038, 13038]\n",
      "1630\n",
      "[33428, 33428, 33428, 33428, 33428, 33428, 33428, 33428, 33428, 33428, 33428, 33428, 33428, 33428, 33428, 33428, 33428, 33429, 33429, 33429, 33428, 33428, 33428, 33428, 33428, 33429, 33428, 33428, 33428, 33428, 33428, 33428, 33428, 33428, 33428, 33428, 33428, 33428, 33428, 33428, 33428, 33428, 33428, 33428, 33428, 33428, 33429, 33429, 33429, 33428, 33428]\n",
      "1624\n",
      "[9228, 9228, 9228, 9228, 9228, 9228, 9228, 9228, 9228, 9228, 9228, 9228, 9228, 9228, 9228, 9228, 9228, 9228, 9228, 9228, 9228, 9228, 9228, 9228, 9228, 9228, 9228, 9228, 9228, 9228, 9228, 9228, 9228, 9228, 9228, 9228, 9228, 9237, 9237, 9237, 9237, 9237, 9237, 9237, 9237, 9237, 9237, 9237, 9237, 9237, 9237, 9237]\n",
      "1620\n",
      "[8142, 8142, 8142, 8142, 8142, 8142, 8142, 8092, 8092, 8092, 8092, 8142, 8142, 8092, 8092, 8092, 8116, 8116, 8116, 8116, 8116, 8116, 8116, 8116, 8116, 8116, 8116, 8116, 8116, 8116, 8116, 8116, 8116, 8116, 8116, 8116, 8116, 8116, 8116, 8116, 8116, 8116, 8116, 8116, 8116, 8116, 8116, 8116, 8116, 8116, 8116, 8116]\n",
      "1608\n",
      "[5370, 5370, 5370, 5370, 5370, 5331, 5331, 5331, 5331, 5331, 5331, 5331, 5331, 5331, 5331, 5331, 5331, 5331, 5331, 5331, 5331, 5331, 5331, 5331, 5331, 5331, 5331, 5331, 5331, 5331, 5331, 5331, 5331, 5331, 5331, 5331, 5331, 5331, 5331, 5331, 5331, 5331, 5331, 5331, 5331, 5331, 5331]\n",
      "{1651: array([False, False, False, False, False, False, False, False, False,\n",
      "        True, False, False, False, False, False, False, False, False,\n",
      "       False, False, False, False, False, False, False, False, False,\n",
      "       False, False, False, False, False, False, False, False, False,\n",
      "       False, False, False, False, False, False, False, False, False,\n",
      "       False, False, False, False, False]), 1650: array([False, False, False, False, False, False, False, False, False,\n",
      "       False, False, False, False, False, False, False, False, False,\n",
      "       False, False, False, False, False, False, False, False, False,\n",
      "       False, False, False, False, False, False, False, False, False,\n",
      "        True, False, False, False, False, False, False, False,  True,\n",
      "       False, False, False, False, False, False]), 1631: array([False, False, False, False, False, False, False, False, False,\n",
      "       False, False, False, False, False, False, False, False, False,\n",
      "       False, False, False, False, False, False,  True, False, False,\n",
      "       False, False,  True, False, False, False, False, False, False,\n",
      "       False, False, False, False, False, False, False, False, False,\n",
      "       False,  True,  True, False, False, False]), 1630: array([False, False, False, False, False, False, False, False, False,\n",
      "       False, False, False, False, False, False, False,  True, False,\n",
      "       False,  True, False, False, False, False,  True,  True, False,\n",
      "       False, False, False, False, False, False, False, False, False,\n",
      "       False, False, False, False, False, False, False, False, False,\n",
      "        True, False, False,  True, False]), 1624: array([False, False, False, False, False, False, False, False, False,\n",
      "       False, False, False, False, False, False, False, False, False,\n",
      "       False, False, False, False, False, False, False, False, False,\n",
      "       False, False, False, False, False, False, False, False, False,\n",
      "        True, False, False, False, False, False, False, False, False,\n",
      "       False, False, False, False, False, False]), 1620: array([False, False, False, False, False, False,  True, False, False,\n",
      "       False,  True, False,  True, False, False,  True, False, False,\n",
      "       False, False, False, False, False, False, False, False, False,\n",
      "       False, False, False, False, False, False, False, False, False,\n",
      "       False, False, False, False, False, False, False, False, False,\n",
      "       False, False, False, False, False, False]), 1608: array([False, False, False, False,  True, False, False, False, False,\n",
      "       False, False, False, False, False, False, False, False, False,\n",
      "       False, False, False, False, False, False, False, False, False,\n",
      "       False, False, False, False, False, False, False, False, False,\n",
      "       False, False, False, False, False, False, False, False, False,\n",
      "       False])}\n"
     ]
    }
   ],
   "source": [
    "import pickle\n",
    "def get_top_loc(df):\n",
    "    window_size = 5\n",
    "\n",
    "    weeks = (df[\"endt\"].max() - df[\"startt\"].min()).days // 7\n",
    "    start_date = df[\"startt\"].min().date()\n",
    "    \n",
    "    top_ls = []\n",
    "    for i in range(0, weeks - window_size + 1):\n",
    "        curr_start = datetime.datetime.combine(start_date + datetime.timedelta(weeks=i), datetime.time())\n",
    "        curr_end = datetime.datetime.combine(curr_start + datetime.timedelta(weeks=window_size), datetime.time())\n",
    "\n",
    "        # current trip\n",
    "        curr = df.loc[(df[\"startt\"] >= curr_start) & (df[\"endt\"] < curr_end)]\n",
    "        \n",
    "        top_ls.extend(curr.groupby(\"locid\")[\"duration\"].sum().sort_values(ascending=False).head(1).index.values)\n",
    "    return top_ls\n",
    "\n",
    "changed_user = [1651, 1650, 1631, 1630, 1624, 1620, 1608]\n",
    "user_dict = {}\n",
    "for user in changed_user:\n",
    "    print(user)\n",
    "    user_stps = stps.loc[stps[\"userid\"] == user]\n",
    "    top_loc_ls = get_top_loc(user_stps)\n",
    "    \n",
    "    change_time = np.diff(top_loc_ls,n=1)\n",
    "    print(top_loc_ls)\n",
    "    change_time = change_time !=0\n",
    "    user_dict[user] = change_time\n",
    "    \n",
    "    top_loc = np.unique(top_loc_ls)\n",
    "    \n",
    "    selected = stps.loc[stps[\"locid\"].isin(top_loc)]\n",
    "#     print(selected)\n",
    "#     selected.to_csv(os.path.join(config['S_vis'], f'{user}_stps.csv'))\n",
    "#     selected['geom'] = selected['geom'].apply(wkt.loads)\n",
    "#     gdf = gpd.GeoDataFrame(selected, geometry='geom')\n",
    "#     gdf.set_crs(\"EPSG:4326\", inplace=True)\n",
    "#     gdf[\"startt\"] = gdf[\"startt\"].astype(str)\n",
    "#     gdf[\"endt\"] = gdf[\"endt\"].astype(str)\n",
    "#     gdf.to_file(os.path.join(config['S_vis'], f'{user}_stps.shp'))\n",
    "#     break\n",
    "#     print(\"*\"*50)\n",
    "#     print(user_stps)\n",
    "\n",
    "print(user_dict)\n",
    "# with open(\"home_change.pkl\", \"wb\") as f:\n",
    "#     pickle.dump(user_dict, f, pickle.HIGHEST_PROTOCOL)"
   ]
  },
  {
   "source": [
    "## Extract typical user"
   ],
   "cell_type": "markdown",
   "metadata": {}
  },
  {
   "cell_type": "code",
   "execution_count": 16,
   "metadata": {},
   "outputs": [
    {
     "output_type": "stream",
     "name": "stdout",
     "text": [
      "1 1\n"
     ]
    }
   ],
   "source": [
    "def get_stps():\n",
    "    stps = pd.read_csv(os.path.join(config['S_proc'], 'stps_act_user_50.csv'))\n",
    "    \n",
    "    stps.rename(columns={\"user_id\": \"userid\", \"started_at\": \"startt\", \"finished_at\": \"endt\"},inplace=True)\n",
    "\n",
    "    stps['startt'] = pd.to_datetime(stps['startt']).dt.tz_localize(None)\n",
    "    stps['endt'] = pd.to_datetime(stps['endt']).dt.tz_localize(None)\n",
    "    return stps\n",
    "\n",
    "def get_trips():\n",
    "    trips = pd.read_csv(os.path.join(config['S_proc'], 'trips.csv'))\n",
    "\n",
    "    trips.rename(columns={\"user_id\": \"userid\", \"started_at\": \"startt\", \"finished_at\": \"endt\"}, inplace=True)\n",
    "\n",
    "    trips['startt'] = pd.to_datetime(trips['startt']).dt.tz_localize(None)\n",
    "    trips['endt'] = pd.to_datetime(trips['endt']).dt.tz_localize(None)\n",
    "    return trips\n",
    "\n",
    "\n",
    "stps = get_stps()\n",
    "trips = get_trips()\n",
    "\n",
    "# valid_user = pd.read_csv(config[\"results\"] + \"\\\\SBB_user_window_filtered.csv\")[\"user_id\"].unique()\n",
    "# valid_user = valid_user.astype(int)\n",
    "# stps = stps.loc[stps[\"userid\"].isin(valid_user)]\n",
    "# trips = trips.loc[trips[\"userid\"].isin(valid_user)]\n",
    "user = 1659\n",
    "stps = stps.loc[stps[\"userid\"] == user]\n",
    "trips = trips.loc[trips[\"userid\"] == user]\n",
    "\n",
    "print(len(stps['userid'].unique()), len(trips['userid'].unique()))"
   ]
  },
  {
   "cell_type": "code",
   "execution_count": 17,
   "metadata": {},
   "outputs": [],
   "source": [
    "def get_time_step(df):\n",
    "    window_size = 5\n",
    "\n",
    "    weeks = (df[\"endt\"].max() - df[\"startt\"].min()).days // 7\n",
    "    start_date = df[\"startt\"].min().date()\n",
    "    \n",
    "    df[\"timestep\"] = 0\n",
    "    top_ls = []\n",
    "    for i in range(0, weeks - window_size + 1):\n",
    "        curr_start = datetime.datetime.combine(start_date + datetime.timedelta(weeks=i), datetime.time())\n",
    "        curr_end = datetime.datetime.combine(curr_start + datetime.timedelta(weeks=window_size), datetime.time())\n",
    "\n",
    "        df.loc[(df[\"startt\"] >= curr_start) & (df[\"endt\"] < curr_end), \"timestep\"] = i\n",
    "        \n",
    "    return df\n",
    "\n",
    "stps = get_time_step(stps)\n",
    "trips = get_time_step(trips)\n",
    "\n",
    "stps = stps.loc[stps[\"timestep\"]>45]\n",
    "trips = trips.loc[trips[\"timestep\"]>45]"
   ]
  },
  {
   "cell_type": "code",
   "execution_count": 19,
   "metadata": {},
   "outputs": [
    {
     "output_type": "error",
     "ename": "TypeError",
     "evalue": "Only str is accepted.",
     "traceback": [
      "\u001b[1;31m---------------------------------------------------------------------------\u001b[0m",
      "\u001b[1;31mTypeError\u001b[0m                                 Traceback (most recent call last)",
      "\u001b[1;32m<ipython-input-19-f095b9954886>\u001b[0m in \u001b[0;36m<module>\u001b[1;34m\u001b[0m\n\u001b[0;32m     11\u001b[0m \u001b[0mtrips\u001b[0m\u001b[1;33m.\u001b[0m\u001b[0mto_csv\u001b[0m\u001b[1;33m(\u001b[0m\u001b[0mos\u001b[0m\u001b[1;33m.\u001b[0m\u001b[0mpath\u001b[0m\u001b[1;33m.\u001b[0m\u001b[0mjoin\u001b[0m\u001b[1;33m(\u001b[0m\u001b[0mconfig\u001b[0m\u001b[1;33m[\u001b[0m\u001b[1;34m'S_vis'\u001b[0m\u001b[1;33m]\u001b[0m\u001b[1;33m,\u001b[0m \u001b[1;34mf'{user}_trips.csv'\u001b[0m\u001b[1;33m)\u001b[0m\u001b[1;33m)\u001b[0m\u001b[1;33m\u001b[0m\u001b[1;33m\u001b[0m\u001b[0m\n\u001b[0;32m     12\u001b[0m \u001b[1;33m\u001b[0m\u001b[0m\n\u001b[1;32m---> 13\u001b[1;33m \u001b[0mto_geopandas\u001b[0m\u001b[1;33m(\u001b[0m\u001b[0mstps\u001b[0m\u001b[1;33m)\u001b[0m\u001b[1;33m.\u001b[0m\u001b[0mto_file\u001b[0m\u001b[1;33m(\u001b[0m\u001b[0mos\u001b[0m\u001b[1;33m.\u001b[0m\u001b[0mpath\u001b[0m\u001b[1;33m.\u001b[0m\u001b[0mjoin\u001b[0m\u001b[1;33m(\u001b[0m\u001b[0mconfig\u001b[0m\u001b[1;33m[\u001b[0m\u001b[1;34m'S_vis'\u001b[0m\u001b[1;33m]\u001b[0m\u001b[1;33m,\u001b[0m \u001b[1;34mf'{user}_stps.shp'\u001b[0m\u001b[1;33m)\u001b[0m\u001b[1;33m)\u001b[0m\u001b[1;33m\u001b[0m\u001b[1;33m\u001b[0m\u001b[0m\n\u001b[0m\u001b[0;32m     14\u001b[0m \u001b[1;31m# to_geopandas(trips).to_file(os.path.join(config['S_vis'], f'{user}_trips.shp'))\u001b[0m\u001b[1;33m\u001b[0m\u001b[1;33m\u001b[0m\u001b[1;33m\u001b[0m\u001b[0m\n",
      "\u001b[1;32m<ipython-input-19-f095b9954886>\u001b[0m in \u001b[0;36mto_geopandas\u001b[1;34m(df)\u001b[0m\n\u001b[0;32m      1\u001b[0m \u001b[1;32mdef\u001b[0m \u001b[0mto_geopandas\u001b[0m\u001b[1;33m(\u001b[0m\u001b[0mdf\u001b[0m\u001b[1;33m)\u001b[0m\u001b[1;33m:\u001b[0m\u001b[1;33m\u001b[0m\u001b[1;33m\u001b[0m\u001b[0m\n\u001b[1;32m----> 2\u001b[1;33m     \u001b[0mdf\u001b[0m\u001b[1;33m[\u001b[0m\u001b[1;34m'geom'\u001b[0m\u001b[1;33m]\u001b[0m \u001b[1;33m=\u001b[0m \u001b[0mdf\u001b[0m\u001b[1;33m[\u001b[0m\u001b[1;34m'geom'\u001b[0m\u001b[1;33m]\u001b[0m\u001b[1;33m.\u001b[0m\u001b[0mapply\u001b[0m\u001b[1;33m(\u001b[0m\u001b[0mwkt\u001b[0m\u001b[1;33m.\u001b[0m\u001b[0mloads\u001b[0m\u001b[1;33m)\u001b[0m\u001b[1;33m\u001b[0m\u001b[1;33m\u001b[0m\u001b[0m\n\u001b[0m\u001b[0;32m      3\u001b[0m     \u001b[0mgdf\u001b[0m \u001b[1;33m=\u001b[0m \u001b[0mgpd\u001b[0m\u001b[1;33m.\u001b[0m\u001b[0mGeoDataFrame\u001b[0m\u001b[1;33m(\u001b[0m\u001b[0mdf\u001b[0m\u001b[1;33m,\u001b[0m \u001b[0mgeometry\u001b[0m\u001b[1;33m=\u001b[0m\u001b[1;34m'geom'\u001b[0m\u001b[1;33m)\u001b[0m\u001b[1;33m\u001b[0m\u001b[1;33m\u001b[0m\u001b[0m\n\u001b[0;32m      4\u001b[0m     \u001b[0mgdf\u001b[0m\u001b[1;33m.\u001b[0m\u001b[0mset_crs\u001b[0m\u001b[1;33m(\u001b[0m\u001b[1;34m\"EPSG:4326\"\u001b[0m\u001b[1;33m,\u001b[0m \u001b[0minplace\u001b[0m\u001b[1;33m=\u001b[0m\u001b[1;32mTrue\u001b[0m\u001b[1;33m)\u001b[0m\u001b[1;33m\u001b[0m\u001b[1;33m\u001b[0m\u001b[0m\n\u001b[0;32m      5\u001b[0m     \u001b[0mgdf\u001b[0m\u001b[1;33m[\u001b[0m\u001b[1;34m\"startt\"\u001b[0m\u001b[1;33m]\u001b[0m \u001b[1;33m=\u001b[0m \u001b[0mgdf\u001b[0m\u001b[1;33m[\u001b[0m\u001b[1;34m\"startt\"\u001b[0m\u001b[1;33m]\u001b[0m\u001b[1;33m.\u001b[0m\u001b[0mastype\u001b[0m\u001b[1;33m(\u001b[0m\u001b[0mstr\u001b[0m\u001b[1;33m)\u001b[0m\u001b[1;33m\u001b[0m\u001b[1;33m\u001b[0m\u001b[0m\n",
      "\u001b[1;32m~\\anaconda3\\envs\\conserved\\lib\\site-packages\\pandas\\core\\series.py\u001b[0m in \u001b[0;36mapply\u001b[1;34m(self, func, convert_dtype, args, **kwds)\u001b[0m\n\u001b[0;32m   4210\u001b[0m             \u001b[1;32melse\u001b[0m\u001b[1;33m:\u001b[0m\u001b[1;33m\u001b[0m\u001b[1;33m\u001b[0m\u001b[0m\n\u001b[0;32m   4211\u001b[0m                 \u001b[0mvalues\u001b[0m \u001b[1;33m=\u001b[0m \u001b[0mself\u001b[0m\u001b[1;33m.\u001b[0m\u001b[0mastype\u001b[0m\u001b[1;33m(\u001b[0m\u001b[0mobject\u001b[0m\u001b[1;33m)\u001b[0m\u001b[1;33m.\u001b[0m\u001b[0m_values\u001b[0m\u001b[1;33m\u001b[0m\u001b[1;33m\u001b[0m\u001b[0m\n\u001b[1;32m-> 4212\u001b[1;33m                 \u001b[0mmapped\u001b[0m \u001b[1;33m=\u001b[0m \u001b[0mlib\u001b[0m\u001b[1;33m.\u001b[0m\u001b[0mmap_infer\u001b[0m\u001b[1;33m(\u001b[0m\u001b[0mvalues\u001b[0m\u001b[1;33m,\u001b[0m \u001b[0mf\u001b[0m\u001b[1;33m,\u001b[0m \u001b[0mconvert\u001b[0m\u001b[1;33m=\u001b[0m\u001b[0mconvert_dtype\u001b[0m\u001b[1;33m)\u001b[0m\u001b[1;33m\u001b[0m\u001b[1;33m\u001b[0m\u001b[0m\n\u001b[0m\u001b[0;32m   4213\u001b[0m \u001b[1;33m\u001b[0m\u001b[0m\n\u001b[0;32m   4214\u001b[0m         \u001b[1;32mif\u001b[0m \u001b[0mlen\u001b[0m\u001b[1;33m(\u001b[0m\u001b[0mmapped\u001b[0m\u001b[1;33m)\u001b[0m \u001b[1;32mand\u001b[0m \u001b[0misinstance\u001b[0m\u001b[1;33m(\u001b[0m\u001b[0mmapped\u001b[0m\u001b[1;33m[\u001b[0m\u001b[1;36m0\u001b[0m\u001b[1;33m]\u001b[0m\u001b[1;33m,\u001b[0m \u001b[0mSeries\u001b[0m\u001b[1;33m)\u001b[0m\u001b[1;33m:\u001b[0m\u001b[1;33m\u001b[0m\u001b[1;33m\u001b[0m\u001b[0m\n",
      "\u001b[1;32mpandas\\_libs\\lib.pyx\u001b[0m in \u001b[0;36mpandas._libs.lib.map_infer\u001b[1;34m()\u001b[0m\n",
      "\u001b[1;32m~\\anaconda3\\envs\\conserved\\lib\\site-packages\\shapely\\wkt.py\u001b[0m in \u001b[0;36mloads\u001b[1;34m(data)\u001b[0m\n\u001b[0;32m     20\u001b[0m     \u001b[0mShapely\u001b[0m \u001b[0mgeometry\u001b[0m \u001b[0mobject\u001b[0m\u001b[1;33m\u001b[0m\u001b[1;33m\u001b[0m\u001b[0m\n\u001b[0;32m     21\u001b[0m     \"\"\"\n\u001b[1;32m---> 22\u001b[1;33m     \u001b[1;32mreturn\u001b[0m \u001b[0mgeos\u001b[0m\u001b[1;33m.\u001b[0m\u001b[0mWKTReader\u001b[0m\u001b[1;33m(\u001b[0m\u001b[0mgeos\u001b[0m\u001b[1;33m.\u001b[0m\u001b[0mlgeos\u001b[0m\u001b[1;33m)\u001b[0m\u001b[1;33m.\u001b[0m\u001b[0mread\u001b[0m\u001b[1;33m(\u001b[0m\u001b[0mdata\u001b[0m\u001b[1;33m)\u001b[0m\u001b[1;33m\u001b[0m\u001b[1;33m\u001b[0m\u001b[0m\n\u001b[0m\u001b[0;32m     23\u001b[0m \u001b[1;33m\u001b[0m\u001b[0m\n\u001b[0;32m     24\u001b[0m \u001b[1;33m\u001b[0m\u001b[0m\n",
      "\u001b[1;32m~\\anaconda3\\envs\\conserved\\lib\\site-packages\\shapely\\geos.py\u001b[0m in \u001b[0;36mread\u001b[1;34m(self, text)\u001b[0m\n\u001b[0;32m    281\u001b[0m         \u001b[1;34m\"\"\"Returns geometry from WKT\"\"\"\u001b[0m\u001b[1;33m\u001b[0m\u001b[1;33m\u001b[0m\u001b[0m\n\u001b[0;32m    282\u001b[0m         \u001b[1;32mif\u001b[0m \u001b[1;32mnot\u001b[0m \u001b[0misinstance\u001b[0m\u001b[1;33m(\u001b[0m\u001b[0mtext\u001b[0m\u001b[1;33m,\u001b[0m \u001b[0mtext_types\u001b[0m\u001b[1;33m)\u001b[0m\u001b[1;33m:\u001b[0m\u001b[1;33m\u001b[0m\u001b[1;33m\u001b[0m\u001b[0m\n\u001b[1;32m--> 283\u001b[1;33m             \u001b[1;32mraise\u001b[0m \u001b[0mTypeError\u001b[0m\u001b[1;33m(\u001b[0m\u001b[1;34m\"Only str is accepted.\"\u001b[0m\u001b[1;33m)\u001b[0m\u001b[1;33m\u001b[0m\u001b[1;33m\u001b[0m\u001b[0m\n\u001b[0m\u001b[0;32m    284\u001b[0m         \u001b[1;32mif\u001b[0m \u001b[0msys\u001b[0m\u001b[1;33m.\u001b[0m\u001b[0mversion_info\u001b[0m\u001b[1;33m[\u001b[0m\u001b[1;36m0\u001b[0m\u001b[1;33m]\u001b[0m \u001b[1;33m>=\u001b[0m \u001b[1;36m3\u001b[0m\u001b[1;33m:\u001b[0m\u001b[1;33m\u001b[0m\u001b[1;33m\u001b[0m\u001b[0m\n\u001b[0;32m    285\u001b[0m             \u001b[0mtext\u001b[0m \u001b[1;33m=\u001b[0m \u001b[0mtext\u001b[0m\u001b[1;33m.\u001b[0m\u001b[0mencode\u001b[0m\u001b[1;33m(\u001b[0m\u001b[1;33m)\u001b[0m\u001b[1;33m\u001b[0m\u001b[1;33m\u001b[0m\u001b[0m\n",
      "\u001b[1;31mTypeError\u001b[0m: Only str is accepted."
     ]
    }
   ],
   "source": [
    "def to_geopandas(df):\n",
    "    df['geom'] = df['geom'].apply(wkt.loads)\n",
    "    gdf = gpd.GeoDataFrame(df, geometry='geom')\n",
    "    gdf.set_crs(\"EPSG:4326\", inplace=True)\n",
    "    gdf[\"startt\"] = gdf[\"startt\"].astype(str)\n",
    "    gdf[\"endt\"] = gdf[\"endt\"].astype(str)\n",
    "\n",
    "    return gdf\n",
    "\n",
    "stps.to_csv(os.path.join(config['S_vis'], f'{user}_stps.csv'))\n",
    "trips.to_csv(os.path.join(config['S_vis'], f'{user}_trips.csv'))\n",
    "\n",
    "to_geopandas(stps).to_file(os.path.join(config['S_vis'], f'{user}_stps.shp'))\n",
    "# to_geopandas(trips).to_file(os.path.join(config['S_vis'], f'{user}_trips.shp'))\n"
   ]
  }
 ],
 "metadata": {
  "kernelspec": {
   "name": "python379jvsc74a57bd0c773ede1bbce3eb1f4226da4d8d6a3267891d2afa29c8f7a91c66527b85f48df",
   "display_name": "Python 3.7.9 64-bit ('conserved': conda)"
  },
  "language_info": {
   "codemirror_mode": {
    "name": "ipython",
    "version": 3
   },
   "file_extension": ".py",
   "mimetype": "text/x-python",
   "name": "python",
   "nbconvert_exporter": "python",
   "pygments_lexer": "ipython3",
   "version": "3.7.9"
  }
 },
 "nbformat": 4,
 "nbformat_minor": 2
}