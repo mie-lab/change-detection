{
 "cells": [
  {
   "cell_type": "code",
   "execution_count": 1,
   "metadata": {},
   "outputs": [],
   "source": [
    "import numpy as np\n",
    "import pandas as pd\n",
    "import geopandas as gpd\n",
    "import os\n",
    "import sys\n",
    "from shapely import wkt\n",
    "from scipy import stats\n",
    "from tqdm import tqdm\n",
    "import datetime\n",
    "\n",
    "from joblib import Parallel, delayed\n",
    "import multiprocessing\n",
    "\n",
    "\n",
    "from utils.config import config\n",
    "\n",
    "sys.path.append(os.path.join(os.getcwd(), \"trackintel\"))\n",
    "import trackintel as ti"
   ]
  },
  {
   "cell_type": "code",
   "execution_count": 2,
   "metadata": {},
   "outputs": [],
   "source": [
    "import matplotlib.pyplot as plt\n",
    "import matplotlib\n",
    "\n",
    "\n",
    "matplotlib.rcParams['figure.dpi'] = 300\n",
    "%matplotlib inline\n",
    "matplotlib.rcParams['xtick.labelsize'] = 13\n",
    "matplotlib.rcParams['ytick.labelsize'] = 13\n",
    "\n",
    "np.set_printoptions(precision=4, suppress= True)\n",
    "colors = plt.rcParams['axes.prop_cycle'].by_key()['color']\n"
   ]
  },
  {
   "cell_type": "code",
   "execution_count": 3,
   "metadata": {},
   "outputs": [
    {
     "name": "stdout",
     "output_type": "stream",
     "text": [
      "(93,)\n"
     ]
    }
   ],
   "source": [
    "selected_user = pd.read_csv(os.path.join(config[\"quality\"], \"SBB_user_window_filtered.csv\"))[\"user_id\"].unique()\n",
    "print(selected_user.shape)"
   ]
  },
  {
   "cell_type": "markdown",
   "metadata": {},
   "source": [
    "# Data size"
   ]
  },
  {
   "cell_type": "code",
   "execution_count": 4,
   "metadata": {},
   "outputs": [
    {
     "name": "stdout",
     "output_type": "stream",
     "text": [
      "Number of triplegs: 344740\n",
      "Number of staypoints: 193637\n"
     ]
    }
   ],
   "source": [
    "tpls = pd.read_csv(os.path.join(config['raw'], 'tpls.csv'))\n",
    "tpls = tpls.loc[tpls['userid'].isin(selected_user)]\n",
    "print(\"Number of triplegs: {}\".format(len(tpls[\"id\"].unique())))\n",
    "\n",
    "stps = pd.read_csv(os.path.join(config['raw'], 'stps.csv'))\n",
    "stps = stps.loc[stps['userid'].isin(selected_user)]\n",
    "print(\"Number of staypoints: {}\".format(len(stps[\"id\"].unique())))"
   ]
  },
  {
   "cell_type": "code",
   "execution_count": 5,
   "metadata": {},
   "outputs": [
    {
     "name": "stdout",
     "output_type": "stream",
     "text": [
      "Number of locations: 46489 46489\n",
      "Number of trips: 181479\n"
     ]
    }
   ],
   "source": [
    "locs = pd.read_csv(os.path.join(config['proc'], 'locs_user_50.csv'))\n",
    "locs = locs.loc[locs['userid'].isin(selected_user)]\n",
    "\n",
    "stps_locs = pd.read_csv(os.path.join(config['proc'], 'stps_act_user_50.csv'))\n",
    "stps_locs = stps_locs.loc[stps_locs['userid'].isin(selected_user)]\n",
    "\n",
    "print(\"Number of locations: {} {}\".format(len(locs[\"id\"].unique()), len(stps_locs[\"locid\"].unique())) )\n",
    "\n",
    "trips = pd.read_csv(os.path.join(config['proc'], 'trips.csv'))\n",
    "trips = trips.loc[trips['userid'].isin(selected_user)]\n",
    "print(\"Number of trips: {}\".format(len(trips[\"id\"].unique())))"
   ]
  },
  {
   "cell_type": "markdown",
   "metadata": {},
   "source": [
    "# Trip set stability\n",
    "Trip set is found to be stable for all window size t "
   ]
  },
  {
   "cell_type": "code",
   "execution_count": 6,
   "metadata": {},
   "outputs": [
    {
     "name": "stdout",
     "output_type": "stream",
     "text": [
      "User number: 139 139\n",
      "starting merge (259887, 12) (245689, 9)\n",
      "finished merge (505576, 17)\n",
      "**************************************************\n",
      "139 139 139 93\n"
     ]
    }
   ],
   "source": [
    "def get_stps():\n",
    "    stps = pd.read_csv(os.path.join(config['proc'], 'stps_act_user_50.csv'))\n",
    "    \n",
    "    stps.rename(columns={\"user_id\": \"userid\", \"started_at\": \"startt\", \"finished_at\": \"endt\"},inplace=True)\n",
    "\n",
    "    stps['startt'] = pd.to_datetime(stps['startt']).dt.tz_localize(None)\n",
    "    stps['endt'] = pd.to_datetime(stps['endt']).dt.tz_localize(None)\n",
    "    return stps\n",
    "\n",
    "def get_trips():\n",
    "    trips = pd.read_csv(os.path.join(config['proc'], 'trips.csv'))\n",
    "\n",
    "    trips.rename(columns={\"user_id\": \"userid\", \"started_at\": \"startt\", \"finished_at\": \"endt\"}, inplace=True)\n",
    "\n",
    "    trips['startt'] = pd.to_datetime(trips['startt']).dt.tz_localize(None)\n",
    "    trips['endt'] = pd.to_datetime(trips['endt']).dt.tz_localize(None)\n",
    "    return trips\n",
    "\n",
    "def _preprocess(df):\n",
    "    df.rename(\n",
    "        columns={\"userid\": \"user_id\", \"startt\": \"started_at\", \"endt\": \"finished_at\", \"dur_s\": \"duration\"}, inplace=True\n",
    "    )\n",
    "    return df\n",
    "\n",
    "def _get_all_trace(stps, trips):\n",
    "\n",
    "    stps = _preprocess(stps)\n",
    "    trips = _preprocess(trips)\n",
    "    print(\"User number:\", len(stps[\"user_id\"].unique()), len(trips[\"user_id\"].unique()))\n",
    "\n",
    "    # merge trips and staypoints\n",
    "    print(\"starting merge\", stps.shape, trips.shape)\n",
    "    stps[\"type\"] = \"stp\"\n",
    "    trips[\"type\"] = \"trip\"\n",
    "    df_all = pd.merge(stps, trips, how=\"outer\")\n",
    "    print(\"finished merge\", df_all.shape)\n",
    "    print(\"*\"*50)\n",
    "\n",
    "    return df_all\n",
    "\n",
    "stps = get_stps()\n",
    "trips = get_trips()\n",
    "all_trace = _get_all_trace(stps, trips)\n",
    "\n",
    "selected_all_trace = all_trace.loc[all_trace['user_id'].isin(selected_user)]\n",
    "print(len(stps['user_id'].unique()), len(trips['user_id'].unique()), \n",
    "      len(all_trace['user_id'].unique()), len(selected_all_trace['user_id'].unique()))"
   ]
  },
  {
   "cell_type": "code",
   "execution_count": 7,
   "metadata": {},
   "outputs": [],
   "source": [
    "\n",
    "def applyParallel(dfGrouped, func, time_window):\n",
    "    # multiprocessing.cpu_count()\n",
    "    retLst = Parallel(n_jobs=multiprocessing.cpu_count())(delayed(func)(group, time_window) for name, group in dfGrouped)\n",
    "    return pd.concat(retLst)\n",
    "\n",
    "# get locations within the activity set\n",
    "def _get_act_locs(df, time_window=5, filter_len=10):\n",
    "    if df.shape[0] >= 2:\n",
    "        avg_duration_min = df['duration'].sum() / 60 / time_window\n",
    "        if avg_duration_min < filter_len:\n",
    "            len_class = 0\n",
    "        elif avg_duration_min < 30:\n",
    "            len_class = 1\n",
    "        elif avg_duration_min < 60:\n",
    "            len_class = 2\n",
    "        elif avg_duration_min < 60 * 6:\n",
    "            len_class = 3\n",
    "        elif avg_duration_min < 60 * 12:\n",
    "            len_class = 4\n",
    "        elif avg_duration_min < 60 * 24:\n",
    "            len_class = 5\n",
    "        elif avg_duration_min < 60 * 48:\n",
    "            len_class = 6\n",
    "        else:\n",
    "            len_class = 7\n",
    "        return pd.Series([avg_duration_min, len_class], index=['duration','class'])\n",
    "\n",
    "def get_curr_trips(t, stps, ASet):\n",
    "    # get the locations in activity set\n",
    "    valid_stps = stps.loc[stps['locid'].isin(ASet['locid'].unique())]\n",
    "    \n",
    "    # consider trip that ends in valid stps\n",
    "    valid_t = t.loc[t['nstpid'].isin(valid_stps['id'])]\n",
    "    valid_t = valid_t[['id','length_m','duration','nstpid']]\n",
    "    \n",
    "    # enrich with loc id\n",
    "    valid_t = valid_t.merge(valid_stps[['id','locid']], left_on='nstpid', right_on='id')\n",
    "    \n",
    "    valid_t.drop(columns ={\"id_y\", \"nstpid\"}, inplace = True)\n",
    "    \n",
    "    # enrich with activity set class\n",
    "    valid_t = valid_t.merge(ASet[['locid', 'class']], on='locid', how='left')\n",
    "    \n",
    "    valid_t.rename(columns={'locid':'nloc', 'id_x':'tripid'}, inplace=True)\n",
    "\n",
    "    return valid_t\n",
    "\n",
    "def getTripSize(df, time_window):\n",
    "    weeks = (df['started_at'].max() - df['started_at'].min()).days // 7\n",
    "    start_date = df['started_at'].min().date()\n",
    "    \n",
    "    res = []\n",
    "    for i in range(0, weeks-time_window+1):\n",
    "        curr_start = datetime.datetime.combine(start_date + datetime.timedelta(weeks=i), datetime.time())\n",
    "        curr_end  = datetime.datetime.combine(curr_start + datetime.timedelta(weeks=time_window), datetime.time())\n",
    "        \n",
    "        curr = df.loc[(df['started_at'] >= curr_start) & (df['finished_at'] <  curr_end)]\n",
    "#         get activity set\n",
    "        curr_stps = curr.loc[curr['type'] == 'stp']\n",
    "        curr_ASet = curr_stps.groupby('locid', as_index=False).apply(_get_act_locs, time_window=time_window).dropna()\n",
    "        if curr_ASet.empty:\n",
    "            continue\n",
    "        curr_ASet = curr_ASet.loc[curr_ASet['class']>0]\n",
    "        \n",
    "#         get activity set\n",
    "        curr_t = curr.loc[curr['type'] == 'trip']\n",
    "        curr_tSet = get_curr_trips(curr_t, curr_stps, curr_ASet)\n",
    "        \n",
    "#         quality\n",
    "        curr_quality = curr['duration'].sum()/(curr_end-curr_start).total_seconds()\n",
    "        \n",
    "        if curr_quality > 1:\n",
    "            curr_quality = 1\n",
    "        \n",
    "        trip_capa = len(curr_tSet)/time_window\n",
    "#         get the results\n",
    "        if curr_quality == 0:\n",
    "            res.append([i, 0])\n",
    "        else:\n",
    "            res.append([i, trip_capa/curr_quality])\n",
    "\n",
    "    \n",
    "    res = pd.DataFrame(res, columns=['timeStep','trip_norm'])\n",
    "    res['user_id'] = df['user_id'].unique()[0]\n",
    "    return res"
   ]
  },
  {
   "cell_type": "code",
   "execution_count": null,
   "metadata": {},
   "outputs": [
    {
     "name": "stdout",
     "output_type": "stream",
     "text": [
      "4 -0.002 0.007 23.14 0.78 True\n",
      "**************************************************\n",
      "5 -0.001 0.007 23.13 0.86 True\n",
      "**************************************************\n",
      "6 -0.002 0.007 23.16 0.81 True\n",
      "**************************************************\n",
      "8 -0.007 0.007 23.24 0.33 True\n",
      "**************************************************\n",
      "10 -0.009 0.007 23.17 0.23 True\n",
      "**************************************************\n",
      "15 -0.011 0.008 22.92 0.16 True\n",
      "**************************************************\n"
     ]
    }
   ],
   "source": [
    "prop = 0.8\n",
    "\n",
    "time_window_ls = [4, 5, 6, 8, 10, 15, 20, 30, 40]\n",
    "\n",
    "for time_window in time_window_ls:\n",
    "    trip_set = applyParallel(selected_all_trace.groupby(\"user_id\"), getTripSize, time_window = time_window)\n",
    "    # filter by timestep\n",
    "    temp = trip_set.groupby([\"user_id\",\"timeStep\"], as_index=False).size()\n",
    "    user_count = temp.groupby(\"timeStep\").size()\n",
    "    valid_timestep = (user_count.loc[user_count>=user_count.max()*prop].index).to_numpy()\n",
    "    trip_set = trip_set[trip_set['timeStep'].isin(valid_timestep)].reset_index(drop=True)\n",
    "\n",
    "    trip_set['timeStep'] = trip_set['timeStep'].astype(int)\n",
    "    trip_set['trip_norm'] = trip_set['trip_norm'].astype(int)\n",
    "\n",
    "    trip_set['timeStep'] = trip_set['timeStep'] + 5\n",
    "\n",
    "    slope, intercept, rvalue, p_value, std_err = stats.linregress(trip_set['timeStep'],trip_set['trip_norm'])\n",
    "    print(\"{} {:.3f} {:.3f} {:.2f} {:.2f} {}\".format(time_window, slope, std_err, intercept, p_value, p_value>0.05))\n",
    "    print(\"*\"*50)"
   ]
  },
  {
   "cell_type": "markdown",
   "metadata": {},
   "source": [
    "## Trip set plot"
   ]
  },
  {
   "cell_type": "code",
   "execution_count": 19,
   "metadata": {},
   "outputs": [
    {
     "name": "stdout",
     "output_type": "stream",
     "text": [
      "-0.001 0.007 23.13 0.86 True\n"
     ]
    }
   ],
   "source": [
    "trip_set = applyParallel(selected_all_trace.groupby(\"user_id\"), getTripSize, time_window = 5)\n",
    "\n",
    "# filter by timestep\n",
    "temp = trip_set.groupby([\"user_id\",\"timeStep\"], as_index=False).size()\n",
    "user_count = temp.groupby(\"timeStep\").size()\n",
    "valid_timestep = (user_count.loc[user_count>=user_count.max()*prop].index).to_numpy()\n",
    "trip_set = trip_set[trip_set['timeStep'].isin(valid_timestep)].reset_index(drop=True)\n",
    "\n",
    "trip_set['timeStep'] = trip_set['timeStep'].astype(int)\n",
    "trip_set['trip_norm'] = trip_set['trip_norm'].astype(int)\n",
    "\n",
    "trip_set['timeStep'] = trip_set['timeStep'] + 5\n",
    "\n",
    "slope, intercept, rvalue, p_value, std_err = stats.linregress(trip_set['timeStep'],trip_set['trip_norm'])\n",
    "print(\"{:.3f} {:.3f} {:.2f} {:.2f} {}\".format(slope, std_err, intercept, p_value, p_value>0.05))"
   ]
  },
  {
   "cell_type": "code",
   "execution_count": 23,
   "metadata": {},
   "outputs": [
    {
     "data": {
      "image/png": "[encoded data removed]",
      "text/plain": [
       "<Figure size 792x216 with 1 Axes>"
      ]
     },
     "metadata": {
      "needs_background": "light"
     },
     "output_type": "display_data"
    }
   ],
   "source": [
    "plot_tripSet = trip_set.groupby('timeStep', as_index=False).mean()\n",
    "\n",
    "slope, intercept, rvalue, p_value, std_err = stats.linregress(trip_set['timeStep'],trip_set['trip_norm'])\n",
    "plt.figure(figsize=(11,3))\n",
    "plt.plot(plot_tripSet['timeStep'], plot_tripSet['trip_norm'], label=f'b = {slope:.4f} $\\pm$ {std_err:.4f}, p = {p_value:.3f}')\n",
    "\n",
    "plt.hlines(intercept, 5, 59, 'black',linestyles='dashed',alpha=1)\n",
    "\n",
    "plt.ylabel(\"Trip capacity/week\",fontsize = 16)\n",
    "plt.xlabel(\"Time (weeks)\",fontsize = 16)\n",
    "plt.legend(prop={'size': 12})\n",
    "\n",
    "plt.ylim([0, 50])\n",
    "plt.legend()\n",
    "plt.show()"
   ]
  },
  {
   "cell_type": "markdown",
   "metadata": {},
   "source": [
    "## Net gain\n",
    "Net gain for individual showing the trip set for every user in SBB is stable across time"
   ]
  },
  {
   "cell_type": "code",
   "execution_count": 25,
   "metadata": {},
   "outputs": [],
   "source": [
    "def get_curr_trips(t, stps, ASet):\n",
    "    # get the locations in activity set\n",
    "    valid_stps = stps.loc[stps['locid'].isin(ASet['locid'].unique())]\n",
    "    \n",
    "    # consider trip that ends in valid stps\n",
    "    valid_t = t.loc[t['nstpid'].isin(valid_stps['id'])]\n",
    "    valid_t = valid_t[['id','length_m','duration','nstpid']]\n",
    "    \n",
    "    # enrich with loc id\n",
    "    valid_t = valid_t.merge(valid_stps[['id','locid']], left_on='nstpid', right_on='id')\n",
    "    \n",
    "    valid_t.drop(columns ={\"id_y\", \"nstpid\"}, inplace = True)\n",
    "    \n",
    "    # enrich with activity set class\n",
    "    valid_t = valid_t.merge(ASet[['locid', 'class']], on='locid', how='left')\n",
    "    \n",
    "    valid_t.rename(columns={'locid':'nloc', 'id_x':'tripid'}, inplace=True)\n",
    "\n",
    "    return valid_t\n",
    "\n",
    "def applyParallel(dfGrouped, func, time_window):\n",
    "    # multiprocessing.cpu_count()\n",
    "    retLst = Parallel(n_jobs=multiprocessing.cpu_count())(delayed(func)(group, time_window) for name, group in dfGrouped)\n",
    "    return pd.concat(retLst)\n",
    "\n",
    "def getTripSet(df, time_window):\n",
    "    weeks = (df['started_at'].max() - df['started_at'].min()).days // 7\n",
    "    start_date = df['started_at'].min().date()\n",
    "    \n",
    "    res = []\n",
    "    for i in range(0, weeks-time_window+1):\n",
    "        curr_start = datetime.datetime.combine(start_date + datetime.timedelta(weeks=i), datetime.time())\n",
    "        curr_end  = datetime.datetime.combine(curr_start + datetime.timedelta(weeks=time_window), datetime.time())\n",
    "        \n",
    "        curr = df.loc[(df['started_at'] >= curr_start) & (df['finished_at'] <  curr_end)]\n",
    "#         get activity set\n",
    "        curr_stps = curr.loc[curr['type'] == 'stp']\n",
    "        curr_ASet = curr_stps.groupby('locid', as_index=False).apply(_get_act_locs, time_window=time_window).dropna()\n",
    "        if curr_ASet.empty:\n",
    "            continue\n",
    "        curr_ASet = curr_ASet.loc[curr_ASet['class']>0]\n",
    "        \n",
    "#         get trip set\n",
    "        curr_t = curr.loc[curr['type'] == 'trip']\n",
    "        curr_tSet = get_curr_trips(curr_t, curr_stps, curr_ASet)\n",
    "        \n",
    "        curr_tSet[\"timeStep\"] = i\n",
    "        \n",
    "#         get the results\n",
    "        res.append(curr_tSet[[\"tripid\", \"timeStep\"]])\n",
    "\n",
    "    res = pd.concat(res)\n",
    "    res['user_id'] = df['user_id'].unique()[0]\n",
    "    return res\n",
    "\n",
    "time_window = 10\n",
    "trip_set = applyParallel(selected_all_trace.groupby(\"user_id\"), getTripSet, time_window = time_window)"
   ]
  },
  {
   "cell_type": "code",
   "execution_count": 26,
   "metadata": {},
   "outputs": [
    {
     "name": "stdout",
     "output_type": "stream",
     "text": [
      "100.0\n"
     ]
    }
   ],
   "source": [
    "def net_gain_individual(df):\n",
    "    set_ls = df.groupby('timeStep')['tripid'].apply(lambda x: set(x)).to_list()\n",
    "    \n",
    "    gain_ls = []\n",
    "    for i in range(len(set_ls)-1):\n",
    "        add = len(set_ls[i+1] - set_ls[i])\n",
    "        remove = len(set_ls[i] - set_ls[i+1])\n",
    "        \n",
    "        gain_ls.append((add - remove))\n",
    "    mean = np.mean(gain_ls)\n",
    "    std = np.std(gain_ls)\n",
    "    \n",
    "    stable = np.abs(mean)/std <1\n",
    "    return stable\n",
    "\n",
    "stable_num = trip_set.groupby(\"user_id\").apply(net_gain_individual)\n",
    "print(stable_num.sum()/stable_num.shape[0] * 100)"
   ]
  },
  {
   "cell_type": "markdown",
   "metadata": {},
   "source": [
    "# Home location change\n",
    "\n",
    "**Change of top1 stayed location:**\n",
    "\n",
    "We calculate the total activity duration of each location in each time window. If the most stayed location of a participant has changed during the study period, the home location of the user might be changed."
   ]
  },
  {
   "cell_type": "code",
   "execution_count": 5,
   "metadata": {},
   "outputs": [
    {
     "name": "stdout",
     "output_type": "stream",
     "text": [
      "93\n"
     ]
    }
   ],
   "source": [
    "stps_locs['startt'] = pd.to_datetime(stps_locs['startt']).dt.tz_localize(None)\n",
    "stps_locs['endt'] = pd.to_datetime(stps_locs['endt']).dt.tz_localize(None)\n",
    "stps_locs[\"duration\"] = stps_locs['endt'] - stps_locs['startt']\n",
    "print(len(stps_locs['userid'].unique()))"
   ]
  },
  {
   "cell_type": "code",
   "execution_count": 6,
   "metadata": {},
   "outputs": [
    {
     "data": {
      "text/plain": [
       "array([1608, 1620, 1624, 1630, 1631, 1650, 1651, 1681, 1695, 1721, 1736,\n",
       "       1757, 1812], dtype=int64)"
      ]
     },
     "execution_count": 6,
     "metadata": {},
     "output_type": "execute_result"
    }
   ],
   "source": [
    "def get_top1_changed_flag(df):\n",
    "    window_size = 10\n",
    "\n",
    "    weeks = (df[\"endt\"].max() - df[\"startt\"].min()).days // 7\n",
    "    start_date = df[\"startt\"].min().date()\n",
    "    \n",
    "    top1_ls = []\n",
    "    for i in range(0, weeks - window_size + 1):\n",
    "        curr_start = datetime.datetime.combine(start_date + datetime.timedelta(weeks=i), datetime.time())\n",
    "        curr_end = datetime.datetime.combine(curr_start + datetime.timedelta(weeks=window_size), datetime.time())\n",
    "\n",
    "        # current trip\n",
    "        curr = df.loc[(df[\"startt\"] >= curr_start) & (df[\"endt\"] < curr_end)]\n",
    "        \n",
    "        top1_loc = curr.groupby(\"locid\")[\"duration\"].sum().sort_values(ascending=False).head(1).index.values[0]\n",
    "        top1_ls.append(top1_loc)\n",
    "    \n",
    "    if np.unique(top1_ls).shape[0] == 1:\n",
    "        return False\n",
    "    else:\n",
    "        return True\n",
    "\n",
    "change_df = stps_locs.groupby(\"userid\").apply(get_top1_changed_flag)\n",
    "changed_user = change_df.loc[change_df==True]\n",
    "changed_user.index.values"
   ]
  },
  {
   "cell_type": "markdown",
   "metadata": {},
   "source": [
    "**Extract typical user for visualization:**\n",
    "\n",
    "The staypoints and trips of the top1 location changed users are extracted for analysing"
   ]
  },
  {
   "cell_type": "code",
   "execution_count": 7,
   "metadata": {},
   "outputs": [],
   "source": [
    "trips['startt'] = pd.to_datetime(trips['startt']).dt.tz_localize(None)\n",
    "trips['endt'] = pd.to_datetime(trips['endt']).dt.tz_localize(None)\n",
    "trips[\"duration\"] = trips['endt'] - trips['startt']"
   ]
  },
  {
   "cell_type": "code",
   "execution_count": 9,
   "metadata": {},
   "outputs": [],
   "source": [
    "def to_geopandas(df):\n",
    "    df['geom'] = df['geom'].apply(wkt.loads)\n",
    "    gdf = gpd.GeoDataFrame(df, geometry='geom')\n",
    "    gdf.set_crs(\"EPSG:4326\", inplace=True)\n",
    "    gdf[\"startt\"] = gdf[\"startt\"].astype(str)\n",
    "    gdf[\"endt\"] = gdf[\"endt\"].astype(str)\n",
    "\n",
    "    return gdf\n",
    "\n",
    "for user in changed_user.index.values:\n",
    "    user_stps = stps.loc[stps[\"userid\"]==user].copy()\n",
    "    user_trips = trips.loc[trips[\"userid\"]==user].copy()\n",
    "    \n",
    "    user_stps.to_csv(os.path.join(config['visualization'], f'{user}_stps.csv'))\n",
    "    user_trips.to_csv(os.path.join(config['visualization'], f'{user}_trips.csv'))\n",
    "\n",
    "    to_geopandas(user_stps).to_file(os.path.join(config['visualization'], f'{user}_stps.shp'))\n"
   ]
  },
  {
   "cell_type": "code",
   "execution_count": null,
   "metadata": {},
   "outputs": [],
   "source": []
  }
 ],
 "metadata": {
  "kernelspec": {
   "display_name": "Python 3",
   "language": "python",
   "name": "python3"
  },
  "language_info": {
   "codemirror_mode": {
    "name": "ipython",
    "version": 3
   },
   "file_extension": ".py",
   "mimetype": "text/x-python",
   "name": "python",
   "nbconvert_exporter": "python",
   "pygments_lexer": "ipython3",
   "version": "3.7.9"
  }
 },
 "nbformat": 4,
 "nbformat_minor": 4
}
